{
  "nbformat": 4,
  "nbformat_minor": 0,
  "metadata": {
    "colab": {
      "name": "Preprocess.ipynb",
      "provenance": []
    },
    "kernelspec": {
      "name": "python3",
      "display_name": "Python 3"
    },
    "language_info": {
      "name": "python"
    }
  },
  "cells": [
    {
      "cell_type": "code",
      "metadata": {
        "id": "Com4Eh8P3E78"
      },
      "source": [
        "import pandas as pd\n",
        "import time\n",
        "import seaborn as sns\n",
        "import datetime as dt"
      ],
      "execution_count": null,
      "outputs": []
    },
    {
      "cell_type": "code",
      "metadata": {
        "colab": {
          "base_uri": "https://localhost:8080/"
        },
        "id": "6fStGyZI3Ihi",
        "outputId": "1c64280a-93c1-4cfc-8c7f-ce7acb9bc65e"
      },
      "source": [
        "from google.colab import drive\n",
        "drive.mount('/content/drive')"
      ],
      "execution_count": null,
      "outputs": [
        {
          "output_type": "stream",
          "text": [
            "Mounted at /content/drive\n"
          ],
          "name": "stdout"
        }
      ]
    },
    {
      "cell_type": "code",
      "metadata": {
        "colab": {
          "base_uri": "https://localhost:8080/"
        },
        "id": "GmJLNqCs3J5D",
        "outputId": "89dc9966-f5ec-4626-9473-6c3fbe0f4fd4"
      },
      "source": [
        "cd /content/drive/MyDrive/Spiderum/Data"
      ],
      "execution_count": null,
      "outputs": [
        {
          "output_type": "stream",
          "text": [
            "/content/drive/MyDrive/Spiderum/Data\n"
          ],
          "name": "stdout"
        }
      ]
    },
    {
      "cell_type": "markdown",
      "metadata": {
        "id": "7Wt3B42B3RPr"
      },
      "source": [
        "# Clean useractionhistories df"
      ]
    },
    {
      "cell_type": "code",
      "metadata": {
        "id": "kCjqk5af6Clh"
      },
      "source": [
        "def clean_useractionhistories(path):\n",
        "    # Read file csv\n",
        "    data = pd.read_csv(path)\n",
        "    \n",
        "    # Remove not-register user\n",
        "    data = data[data['user_id'] != -1]\n",
        "\n",
        "    # Drop unnecessary columns\n",
        "    data.drop(columns=['_id', '__v', 'status'], inplace=True)\n",
        "\n",
        "    # Clean time and convert into datetime type\n",
        "    data['created_at'] = data['created_at'].str[:19]\n",
        "    def convert(x):\n",
        "        year = int(x[:4])\n",
        "        month = int(x[5:7])\n",
        "        day = int(x[8:10])\n",
        "        hour = int(x[11:13])\n",
        "        minute = int(x[14:16])\n",
        "        second = int(x[17:])\n",
        "        return dt.datetime(year, month, day, hour, minute, second)\n",
        "\n",
        "    data['created_at'] = data['created_at'].apply(lambda x: convert(x))\n",
        "\n",
        "    return data\n",
        "\n"
      ],
      "execution_count": null,
      "outputs": []
    },
    {
      "cell_type": "code",
      "metadata": {
        "id": "aKATavoA79em"
      },
      "source": [
        "clean_useractionhistories('./useractionhistories.csv')"
      ],
      "execution_count": null,
      "outputs": []
    },
    {
      "cell_type": "markdown",
      "metadata": {
        "id": "VBP_lU3b4SZs"
      },
      "source": [
        "# Clean posts df"
      ]
    },
    {
      "cell_type": "code",
      "metadata": {
        "id": "-1TLrRd-3P76"
      },
      "source": [
        "def clean_posts(path):\n",
        "    # Read file posts csv\n",
        "    posts = pd.read_csv(path)\n",
        "\n",
        "    # Drop comment child columns\n",
        "    child_comment_cols = [name for name in posts.columns if 'child_comments' in name]\n",
        "    posts.drop(columns=child_comment_cols, inplace=True)\n",
        "\n",
        "    # Keep important cols\n",
        "    posts = posts[['views_count', 'comment_count', 'title', 'body', 'slug', 'created_at']]\n",
        "\n",
        "    return posts"
      ],
      "execution_count": null,
      "outputs": []
    },
    {
      "cell_type": "code",
      "metadata": {
        "id": "WWR_AjpK5se8"
      },
      "source": [
        "clean_posts('./posts.csv')"
      ],
      "execution_count": null,
      "outputs": []
    },
    {
      "cell_type": "markdown",
      "metadata": {
        "id": "x0VSf-6v_UYH"
      },
      "source": [
        "# Create rating df"
      ]
    },
    {
      "cell_type": "code",
      "metadata": {
        "id": "qQTnNxxX53tb"
      },
      "source": [
        "def create_rating_df(path_useraction):\n",
        "    rating_df = pd.read_csv(path_useraction)\n",
        "    \n",
        "    # Preprocess rating information\n",
        "    rating_df = rating_df[(rating_df['action'] == 'upvote') | (rating_df['action'] == 'downvote') | (rating_df['action'] == 'unvote')][rating_df['object'] == 'post']\n",
        "    rating_df = rating_df.groupby(['user_id', 'object_id', 'object', 'redirect_url']).agg({'action': lambda x: list(x), 'created_at': lambda x: max(list(x))}).reset_index()\n",
        "\n",
        "    # Convert action to rating\n",
        "    def convert(x):\n",
        "        rating = 0\n",
        "        for action in x:\n",
        "            if action == 'upvote':\n",
        "                rating = 1\n",
        "            elif action == 'downvote':\n",
        "                rating = -1\n",
        "            elif action == 'unvote':\n",
        "                rating = 0\n",
        "        return rating\n",
        "\n",
        "    rating_df['rating'] = rating_df['action'].apply(lambda x: convert(x))\n",
        "\n",
        "    # Remove rating = 0\n",
        "    rating_df = rating_df[rating_df['rating'] != 0]\n",
        "\n",
        "    # Drop 'action' column\n",
        "    rating_df.drop(['action'], axis=1, inplace=True)\n",
        "\n",
        "    return rating_df"
      ],
      "execution_count": null,
      "outputs": []
    },
    {
      "cell_type": "code",
      "metadata": {
        "id": "4D0G9LYvCJxl"
      },
      "source": [
        "create_rating_df('./useraction_cleaned.csv')"
      ],
      "execution_count": null,
      "outputs": []
    },
    {
      "cell_type": "markdown",
      "metadata": {
        "id": "zWTrKtaiG6VK"
      },
      "source": [
        "# Create view df"
      ]
    },
    {
      "cell_type": "code",
      "metadata": {
        "id": "c-ls4ummHM0L"
      },
      "source": [
        "def create_view_df(path_useraction):\n",
        "    view_df = pd.read_csv(path_useraction)\n",
        "    view_df = view_df[view_df['action'] == 'view']\n",
        "    # Remove duplicated view information, only keep the last one\n",
        "    view_df = view_df.groupby(['user_id', 'object_id', 'object', 'redirect_url']).agg({'created_at': lambda x: max(list(x))}).reset_index()\n",
        "    return view_df"
      ],
      "execution_count": null,
      "outputs": []
    },
    {
      "cell_type": "code",
      "metadata": {
        "colab": {
          "base_uri": "https://localhost:8080/",
          "height": 204
        },
        "id": "Wr8TmybPHBo2",
        "outputId": "00a1d581-925c-4b5d-cf4b-13df73ef3283"
      },
      "source": [
        "view_df = create_view_df('./useraction_cleaned.csv')\n",
        "view_df.head()"
      ],
      "execution_count": null,
      "outputs": [
        {
          "output_type": "execute_result",
          "data": {
            "text/html": [
              "<div>\n",
              "<style scoped>\n",
              "    .dataframe tbody tr th:only-of-type {\n",
              "        vertical-align: middle;\n",
              "    }\n",
              "\n",
              "    .dataframe tbody tr th {\n",
              "        vertical-align: top;\n",
              "    }\n",
              "\n",
              "    .dataframe thead th {\n",
              "        text-align: right;\n",
              "    }\n",
              "</style>\n",
              "<table border=\"1\" class=\"dataframe\">\n",
              "  <thead>\n",
              "    <tr style=\"text-align: right;\">\n",
              "      <th></th>\n",
              "      <th>user_id</th>\n",
              "      <th>object_id</th>\n",
              "      <th>object</th>\n",
              "      <th>redirect_url</th>\n",
              "      <th>created_at</th>\n",
              "    </tr>\n",
              "  </thead>\n",
              "  <tbody>\n",
              "    <tr>\n",
              "      <th>0</th>\n",
              "      <td>8</td>\n",
              "      <td>36</td>\n",
              "      <td>post</td>\n",
              "      <td>https://spiderum.com/bai-dang/Mau-nam-nhan-ly-...</td>\n",
              "      <td>2019-08-09T05:26:19</td>\n",
              "    </tr>\n",
              "    <tr>\n",
              "      <th>1</th>\n",
              "      <td>8</td>\n",
              "      <td>45</td>\n",
              "      <td>post</td>\n",
              "      <td>https://spiderum.com/bai-dang/Teamwork-va-nhun...</td>\n",
              "      <td>2018-06-12T04:24:15</td>\n",
              "    </tr>\n",
              "    <tr>\n",
              "      <th>2</th>\n",
              "      <td>8</td>\n",
              "      <td>195</td>\n",
              "      <td>post</td>\n",
              "      <td>https://spiderum.com/bai-dang/Vat-chat-quyet-d...</td>\n",
              "      <td>2019-08-09T05:31:16</td>\n",
              "    </tr>\n",
              "    <tr>\n",
              "      <th>3</th>\n",
              "      <td>8</td>\n",
              "      <td>319</td>\n",
              "      <td>post</td>\n",
              "      <td>https://spiderum.com/bai-dang/Nhung-bi-an-xoay...</td>\n",
              "      <td>2017-05-09T10:34:37</td>\n",
              "    </tr>\n",
              "    <tr>\n",
              "      <th>4</th>\n",
              "      <td>8</td>\n",
              "      <td>378</td>\n",
              "      <td>post</td>\n",
              "      <td>https://spiderum.com/bai-dang/Long-tot-va-dat-...</td>\n",
              "      <td>2018-08-01T07:29:19</td>\n",
              "    </tr>\n",
              "  </tbody>\n",
              "</table>\n",
              "</div>"
            ],
            "text/plain": [
              "   user_id  ...           created_at\n",
              "0        8  ...  2019-08-09T05:26:19\n",
              "1        8  ...  2018-06-12T04:24:15\n",
              "2        8  ...  2019-08-09T05:31:16\n",
              "3        8  ...  2017-05-09T10:34:37\n",
              "4        8  ...  2018-08-01T07:29:19\n",
              "\n",
              "[5 rows x 5 columns]"
            ]
          },
          "metadata": {
            "tags": []
          },
          "execution_count": 21
        }
      ]
    },
    {
      "cell_type": "code",
      "metadata": {
        "id": "5uKPMVXhKxDR"
      },
      "source": [
        "mapping_url_postid = view_df[['object_id', 'redirect_url']].drop_duplicates()\n",
        "mapping_url_postid = mapping_url_postid.set_index('redirect_url').to_dict()['object_id']"
      ],
      "execution_count": null,
      "outputs": []
    },
    {
      "cell_type": "markdown",
      "metadata": {
        "id": "Z2AgbSCqKKq7"
      },
      "source": [
        "# Create comment df\n",
        "(to prove that user read and interact with comment section)"
      ]
    },
    {
      "cell_type": "code",
      "metadata": {
        "id": "3GHpapGtJ2_3"
      },
      "source": [
        "def create_comment_df(path_useraction):\n",
        "    comment_df = pd.read_csv(path_useraction)\n",
        "    \n",
        "    # Preprocess rating information\n",
        "    comment_df = comment_df[(comment_df['action'] == 'comment') | (comment_df['object'] == 'comment')]\n",
        "    comment_df = comment_df.groupby(['user_id', 'object_id', 'object', 'redirect_url']).agg({'created_at': lambda x: max(list(x))}).reset_index()\n",
        "\n",
        "    # convert url link comment to link post\n",
        "    def convert(x):\n",
        "        if '?comment' not in x:\n",
        "            return x\n",
        "        else:\n",
        "            return x[:x.index('?comment')]\n",
        "    comment_df['redirect_url'] = comment_df['redirect_url'].apply(lambda x: convert(x))\n",
        "\n",
        "    # Mapping url to object id\n",
        "    def mapping(x):\n",
        "        if x in mapping_url_postid:\n",
        "            return mapping_url_postid[x]\n",
        "        else:\n",
        "            return 0\n",
        "\n",
        "    comment_df['object_id'] = comment_df['redirect_url'].apply(lambda x: mapping(x))\n",
        "\n",
        "    # Remove object_id = 0 because no mapping\n",
        "    comment_df = comment_df[comment_df['object_id'] != 0]\n",
        "\n",
        "    # Remove duplicate rows\n",
        "    comment_df.drop_duplicates(subset=['user_id', 'object_id'], inplace=True)\n",
        "\n",
        "    # Assign rating = 1 for every rows\n",
        "    comment_df['rating'] = 1\n",
        "\n",
        "    return comment_df"
      ],
      "execution_count": null,
      "outputs": []
    },
    {
      "cell_type": "code",
      "metadata": {
        "id": "_KZMY4k5LJdb"
      },
      "source": [
        "create_comment_df('./useraction_cleaned.csv')"
      ],
      "execution_count": null,
      "outputs": []
    },
    {
      "cell_type": "code",
      "metadata": {
        "id": "avfxta4gLPf_"
      },
      "source": [
        ""
      ],
      "execution_count": null,
      "outputs": []
    }
  ]
}