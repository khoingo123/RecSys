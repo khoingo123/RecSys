{
  "nbformat": 4,
  "nbformat_minor": 0,
  "metadata": {
    "colab": {
      "name": "Data Preprocessing.ipynb",
      "provenance": []
    },
    "kernelspec": {
      "name": "python3",
      "display_name": "Python 3"
    },
    "language_info": {
      "name": "python"
    }
  },
  "cells": [
    {
      "cell_type": "code",
      "metadata": {
        "id": "K4OB3joDCapF"
      },
      "source": [
        "import pandas as pd\n",
        "import numpy as np\n",
        "import time\n",
        "import seaborn as sns\n",
        "import datetime as dt"
      ],
      "execution_count": null,
      "outputs": []
    },
    {
      "cell_type": "code",
      "metadata": {
        "colab": {
          "base_uri": "https://localhost:8080/"
        },
        "id": "RmFKQ7oDCAV3",
        "outputId": "9d88edb9-7478-4110-800e-82494d35ae05"
      },
      "source": [
        "from google.colab import drive\n",
        "drive.mount('/content/drive')"
      ],
      "execution_count": null,
      "outputs": [
        {
          "output_type": "stream",
          "name": "stdout",
          "text": [
            "Mounted at /content/drive\n"
          ]
        }
      ]
    },
    {
      "cell_type": "code",
      "metadata": {
        "colab": {
          "base_uri": "https://localhost:8080/"
        },
        "id": "NNi78SLxCLC4",
        "outputId": "a261322e-ad40-4cf8-84fd-6195dc40d9b1"
      },
      "source": [
        "cd /content/drive/MyDrive/Spiderum/Data"
      ],
      "execution_count": null,
      "outputs": [
        {
          "output_type": "stream",
          "name": "stdout",
          "text": [
            "/content/drive/MyDrive/Spiderum/Data\n"
          ]
        }
      ]
    },
    {
      "cell_type": "markdown",
      "metadata": {
        "id": "S_H9nFVk0O03"
      },
      "source": [
        "# Clean posts"
      ]
    },
    {
      "cell_type": "code",
      "metadata": {
        "id": "029KSFDJhhkD",
        "colab": {
          "base_uri": "https://localhost:8080/"
        },
        "outputId": "868722d3-e3cd-4107-a9b2-15bf13188ecf"
      },
      "source": [
        "start = time.time()\n",
        "\n",
        "posts = pd.read_csv('./posts.csv')\n",
        "posts.head()\n",
        "\n",
        "end = time.time()\n",
        "print(end - start)"
      ],
      "execution_count": null,
      "outputs": [
        {
          "output_type": "stream",
          "name": "stdout",
          "text": [
            "10.124074220657349\n"
          ]
        },
        {
          "output_type": "stream",
          "name": "stderr",
          "text": [
            "/usr/local/lib/python3.7/dist-packages/IPython/core/interactiveshell.py:2718: DtypeWarning: Columns (17,19,26,28,30,32) have mixed types.Specify dtype option on import or set low_memory=False.\n",
            "  interactivity=interactivity, compiler=compiler, result=result)\n"
          ]
        }
      ]
    },
    {
      "cell_type": "code",
      "metadata": {
        "colab": {
          "base_uri": "https://localhost:8080/",
          "height": 513
        },
        "id": "BobR51d8B3l7",
        "outputId": "23c8ca64-a7a2-4ad9-c4d2-344b756e0086"
      },
      "source": [
        "posts.tail()"
      ],
      "execution_count": null,
      "outputs": [
        {
          "output_type": "execute_result",
          "data": {
            "text/html": [
              "<div>\n",
              "<style scoped>\n",
              "    .dataframe tbody tr th:only-of-type {\n",
              "        vertical-align: middle;\n",
              "    }\n",
              "\n",
              "    .dataframe tbody tr th {\n",
              "        vertical-align: top;\n",
              "    }\n",
              "\n",
              "    .dataframe thead th {\n",
              "        text-align: right;\n",
              "    }\n",
              "</style>\n",
              "<table border=\"1\" class=\"dataframe\">\n",
              "  <thead>\n",
              "    <tr style=\"text-align: right;\">\n",
              "      <th></th>\n",
              "      <th>_id</th>\n",
              "      <th>type</th>\n",
              "      <th>status</th>\n",
              "      <th>is_editor_pick</th>\n",
              "      <th>reading_time</th>\n",
              "      <th>tags</th>\n",
              "      <th>power_point</th>\n",
              "      <th>point</th>\n",
              "      <th>up_point</th>\n",
              "      <th>down_point</th>\n",
              "      <th>date_point</th>\n",
              "      <th>hot_point</th>\n",
              "      <th>controlversial_point</th>\n",
              "      <th>star</th>\n",
              "      <th>views_count</th>\n",
              "      <th>comment_count</th>\n",
              "      <th>is_edit</th>\n",
              "      <th>public_post</th>\n",
              "      <th>__v</th>\n",
              "      <th>body</th>\n",
              "      <th>cat_id</th>\n",
              "      <th>created_at</th>\n",
              "      <th>creator_id</th>\n",
              "      <th>slug</th>\n",
              "      <th>thumbnail</th>\n",
              "      <th>title</th>\n",
              "      <th>title_searchable</th>\n",
              "      <th>updated_at</th>\n",
              "      <th>new_id</th>\n",
              "      <th>description</th>\n",
              "      <th>content</th>\n",
              "      <th>new_title</th>\n",
              "      <th>url_description</th>\n",
              "      <th>og_image_url</th>\n",
              "    </tr>\n",
              "  </thead>\n",
              "  <tbody>\n",
              "    <tr>\n",
              "      <th>49841</th>\n",
              "      <td>616d1906e268e3124eb7c57d</td>\n",
              "      <td>3</td>\n",
              "      <td>1</td>\n",
              "      <td>False</td>\n",
              "      <td>231.4</td>\n",
              "      <td>[ { \"$oid\" : \"5a66423f053217118939d29b\" }, { \"...</td>\n",
              "      <td>0</td>\n",
              "      <td>1</td>\n",
              "      <td>1</td>\n",
              "      <td>0</td>\n",
              "      <td>1.634540e+12</td>\n",
              "      <td>3268.768252</td>\n",
              "      <td>5296.404568</td>\n",
              "      <td>False</td>\n",
              "      <td>2</td>\n",
              "      <td>0</td>\n",
              "      <td>0</td>\n",
              "      <td>False</td>\n",
              "      <td>0</td>\n",
              "      <td>NaN</td>\n",
              "      <td>19</td>\n",
              "      <td>2021-10-18T06:49:42.738Z</td>\n",
              "      <td>6167ed5a47f5fe441387cc7e</td>\n",
              "      <td>Oreo-mang-giai-dieu-Tet-trong-tung-mieng-banh-...</td>\n",
              "      <td>930518c02fdf11ec914d09dbd344244a.jpg</td>\n",
              "      <td>Oreo mang giai điệu Tết trong từng miếng bánh ...</td>\n",
              "      <td>NaN</td>\n",
              "      <td>2021-10-18T06:55:27.684Z</td>\n",
              "      <td>NaN</td>\n",
              "      <td>Một chiến dịch Tết \"chơi trội\" của chiếc bánh ...</td>\n",
              "      <td>NaN</td>\n",
              "      <td>NaN</td>\n",
              "      <td>NaN</td>\n",
              "      <td>https://s3-ap-southeast-1.amazonaws.com/images...</td>\n",
              "    </tr>\n",
              "    <tr>\n",
              "      <th>49842</th>\n",
              "      <td>616d2690e268e3124eb7cac1</td>\n",
              "      <td>3</td>\n",
              "      <td>1</td>\n",
              "      <td>False</td>\n",
              "      <td>42.6</td>\n",
              "      <td>[  ]</td>\n",
              "      <td>0</td>\n",
              "      <td>1</td>\n",
              "      <td>1</td>\n",
              "      <td>0</td>\n",
              "      <td>1.634543e+12</td>\n",
              "      <td>3268.821739</td>\n",
              "      <td>5296.491217</td>\n",
              "      <td>False</td>\n",
              "      <td>4</td>\n",
              "      <td>0</td>\n",
              "      <td>1</td>\n",
              "      <td>False</td>\n",
              "      <td>0</td>\n",
              "      <td>NaN</td>\n",
              "      <td>19</td>\n",
              "      <td>2021-10-18T07:47:28.664Z</td>\n",
              "      <td>616d22c947f5fe441387d27c</td>\n",
              "      <td>About-Thuecanho123-UC4ZkOEH617o</td>\n",
              "      <td>b2c1a9f02fe711ec914d09dbd344244a.png</td>\n",
              "      <td>About Thuecanho123</td>\n",
              "      <td>NaN</td>\n",
              "      <td>2021-10-18T07:47:58.791Z</td>\n",
              "      <td>NaN</td>\n",
              "      <td>Bạn có thể dễ dàng lựa chọn nhiều loại căn hộ ...</td>\n",
              "      <td>NaN</td>\n",
              "      <td>About Thuecanho123</td>\n",
              "      <td>NaN</td>\n",
              "      <td>https://s3-ap-southeast-1.amazonaws.com/images...</td>\n",
              "    </tr>\n",
              "    <tr>\n",
              "      <th>49843</th>\n",
              "      <td>616d28c4e268e3124eb7cc87</td>\n",
              "      <td>3</td>\n",
              "      <td>1</td>\n",
              "      <td>False</td>\n",
              "      <td>75.6</td>\n",
              "      <td>[  ]</td>\n",
              "      <td>0</td>\n",
              "      <td>1</td>\n",
              "      <td>1</td>\n",
              "      <td>0</td>\n",
              "      <td>1.634544e+12</td>\n",
              "      <td>3268.830439</td>\n",
              "      <td>5296.505312</td>\n",
              "      <td>False</td>\n",
              "      <td>8</td>\n",
              "      <td>0</td>\n",
              "      <td>1</td>\n",
              "      <td>False</td>\n",
              "      <td>0</td>\n",
              "      <td>NaN</td>\n",
              "      <td>19</td>\n",
              "      <td>2021-10-18T07:56:52.466Z</td>\n",
              "      <td>616d22c947f5fe441387d27c</td>\n",
              "      <td>Can-ho-chung-cu-Quan-Binh-Tan-moi-nhat-JAGjhjQ...</td>\n",
              "      <td>2ea9ad002fe911ec914d09dbd344244a.jpg</td>\n",
              "      <td>Căn hộ chung cư Quận Bình Tân mới nhất</td>\n",
              "      <td>NaN</td>\n",
              "      <td>2021-10-18T08:10:22.857Z</td>\n",
              "      <td>NaN</td>\n",
              "      <td>Căn hộ chung cư Quận Bình Tân Cho thuê giá rẻ ...</td>\n",
              "      <td>NaN</td>\n",
              "      <td>Căn hộ chung cư Quận Bình Tân mới nhất</td>\n",
              "      <td>NaN</td>\n",
              "      <td>https://s3-ap-southeast-1.amazonaws.com/images...</td>\n",
              "    </tr>\n",
              "    <tr>\n",
              "      <th>49844</th>\n",
              "      <td>616d2b26e268e3124eb7d149</td>\n",
              "      <td>3</td>\n",
              "      <td>1</td>\n",
              "      <td>False</td>\n",
              "      <td>354.4</td>\n",
              "      <td>[  ]</td>\n",
              "      <td>0</td>\n",
              "      <td>1</td>\n",
              "      <td>1</td>\n",
              "      <td>0</td>\n",
              "      <td>1.634544e+12</td>\n",
              "      <td>3268.839855</td>\n",
              "      <td>5296.520566</td>\n",
              "      <td>False</td>\n",
              "      <td>1</td>\n",
              "      <td>0</td>\n",
              "      <td>0</td>\n",
              "      <td>False</td>\n",
              "      <td>0</td>\n",
              "      <td>NaN</td>\n",
              "      <td>14</td>\n",
              "      <td>2021-10-18T08:07:02.635Z</td>\n",
              "      <td>60ebe69e3583b555c24de2f7</td>\n",
              "      <td>Trai-long-ve-su-co-don-ywx3uBx8QNVy</td>\n",
              "      <td>defaultthumbnail.png</td>\n",
              "      <td>Trải lòng về sự cô đơn</td>\n",
              "      <td>NaN</td>\n",
              "      <td>2021-10-18T08:07:03.628Z</td>\n",
              "      <td>NaN</td>\n",
              "      <td>Ngồi viết cho đỡ buồn</td>\n",
              "      <td>NaN</td>\n",
              "      <td>NaN</td>\n",
              "      <td>NaN</td>\n",
              "      <td>NaN</td>\n",
              "    </tr>\n",
              "    <tr>\n",
              "      <th>49845</th>\n",
              "      <td>616d2d7ae268e3124eb7d704</td>\n",
              "      <td>3</td>\n",
              "      <td>1</td>\n",
              "      <td>False</td>\n",
              "      <td>114.2</td>\n",
              "      <td>[  ]</td>\n",
              "      <td>0</td>\n",
              "      <td>1</td>\n",
              "      <td>1</td>\n",
              "      <td>0</td>\n",
              "      <td>1.634545e+12</td>\n",
              "      <td>3268.849045</td>\n",
              "      <td>5296.535453</td>\n",
              "      <td>False</td>\n",
              "      <td>1</td>\n",
              "      <td>0</td>\n",
              "      <td>0</td>\n",
              "      <td>False</td>\n",
              "      <td>0</td>\n",
              "      <td>NaN</td>\n",
              "      <td>14</td>\n",
              "      <td>2021-10-18T08:16:58.137Z</td>\n",
              "      <td>610e9d422b274ba68b87efb3</td>\n",
              "      <td>Ngay-18102021-2q4Z25t6ZbwS</td>\n",
              "      <td>defaultthumbnail.png</td>\n",
              "      <td>Ngày 18/10/2021</td>\n",
              "      <td>NaN</td>\n",
              "      <td>2021-10-18T08:16:59.313Z</td>\n",
              "      <td>NaN</td>\n",
              "      <td>Hôm nay quả là một ngày buồn tôi chưa bao giờ ...</td>\n",
              "      <td>NaN</td>\n",
              "      <td>NaN</td>\n",
              "      <td>NaN</td>\n",
              "      <td>NaN</td>\n",
              "    </tr>\n",
              "  </tbody>\n",
              "</table>\n",
              "</div>"
            ],
            "text/plain": [
              "                            _id  ...                                       og_image_url\n",
              "49841  616d1906e268e3124eb7c57d  ...  https://s3-ap-southeast-1.amazonaws.com/images...\n",
              "49842  616d2690e268e3124eb7cac1  ...  https://s3-ap-southeast-1.amazonaws.com/images...\n",
              "49843  616d28c4e268e3124eb7cc87  ...  https://s3-ap-southeast-1.amazonaws.com/images...\n",
              "49844  616d2b26e268e3124eb7d149  ...                                                NaN\n",
              "49845  616d2d7ae268e3124eb7d704  ...                                                NaN\n",
              "\n",
              "[5 rows x 34 columns]"
            ]
          },
          "metadata": {},
          "execution_count": 35
        }
      ]
    },
    {
      "cell_type": "code",
      "metadata": {
        "id": "I9aLfEBcuR5S"
      },
      "source": [
        "# Drop status 0\n",
        "posts = posts[posts['status'] == 1]\n",
        "\n",
        "# Drop upvote < 0\n",
        "posts = posts[posts['point'] >= 1]\n",
        "\n",
        "# Drop na values\n",
        "posts.dropna(subset=['body'], inplace=True)\n",
        "\n",
        "# Drop duplicates (keep the one has most views)\n",
        "posts.sort_values(by=['views_count'], ascending=False, inplace=True)\n",
        "posts.drop_duplicates(subset=['body'], inplace=True)\n",
        "posts.sort_index(inplace=True)\n",
        "\n",
        "# Add url to slug\n",
        "posts['redirect_url'] = 'https://spiderum.com/bai-dang/' + posts['slug']\n",
        "\n",
        "# Remain important columns\n",
        "posts = posts[['redirect_url', 'body', 'views_count']]"
      ],
      "execution_count": null,
      "outputs": []
    },
    {
      "cell_type": "code",
      "metadata": {
        "colab": {
          "base_uri": "https://localhost:8080/",
          "height": 204
        },
        "id": "bbVmiK21GTJ6",
        "outputId": "fbc082fc-e473-4fa8-846b-dad5ea598fde"
      },
      "source": [
        "posts.head()"
      ],
      "execution_count": null,
      "outputs": [
        {
          "output_type": "execute_result",
          "data": {
            "text/html": [
              "<div>\n",
              "<style scoped>\n",
              "    .dataframe tbody tr th:only-of-type {\n",
              "        vertical-align: middle;\n",
              "    }\n",
              "\n",
              "    .dataframe tbody tr th {\n",
              "        vertical-align: top;\n",
              "    }\n",
              "\n",
              "    .dataframe thead th {\n",
              "        text-align: right;\n",
              "    }\n",
              "</style>\n",
              "<table border=\"1\" class=\"dataframe\">\n",
              "  <thead>\n",
              "    <tr style=\"text-align: right;\">\n",
              "      <th></th>\n",
              "      <th>redirect_url</th>\n",
              "      <th>body</th>\n",
              "      <th>views_count</th>\n",
              "    </tr>\n",
              "  </thead>\n",
              "  <tbody>\n",
              "    <tr>\n",
              "      <th>1</th>\n",
              "      <td>https://spiderum.com/bai-dang/Chuyen-tinh-dam-...</td>\n",
              "      <td>&lt;div&gt;Một lần can ngăn bạn bè xô xát, anh vô ý ...</td>\n",
              "      <td>6817</td>\n",
              "    </tr>\n",
              "    <tr>\n",
              "      <th>2</th>\n",
              "      <td>https://spiderum.com/bai-dang/Tinh-nguoi-3</td>\n",
              "      <td>&lt;div&gt;Ông là tổng giám đốc một tập đoàn lớn nhấ...</td>\n",
              "      <td>10464</td>\n",
              "    </tr>\n",
              "    <tr>\n",
              "      <th>3</th>\n",
              "      <td>https://spiderum.com/bai-dang/Danh-cho-nhung-b...</td>\n",
              "      <td>http://cafebiz.vn/xu-huong-cong-nghe/khi-gia-n...</td>\n",
              "      <td>9811</td>\n",
              "    </tr>\n",
              "    <tr>\n",
              "      <th>4</th>\n",
              "      <td>https://spiderum.com/bai-dang/Nghe-thuat-dam-p...</td>\n",
              "      <td>http://ybox.vn/nghe-nghiep/10-loi-khuyen-khi-d...</td>\n",
              "      <td>7534</td>\n",
              "    </tr>\n",
              "    <tr>\n",
              "      <th>5</th>\n",
              "      <td>https://spiderum.com/bai-dang/15-DINH-LUAT-VE-...</td>\n",
              "      <td>https://www.ohay.tv/view/15-dinh-luat-ve-cuoc-...</td>\n",
              "      <td>4914</td>\n",
              "    </tr>\n",
              "  </tbody>\n",
              "</table>\n",
              "</div>"
            ],
            "text/plain": [
              "                                        redirect_url  ... views_count\n",
              "1  https://spiderum.com/bai-dang/Chuyen-tinh-dam-...  ...        6817\n",
              "2         https://spiderum.com/bai-dang/Tinh-nguoi-3  ...       10464\n",
              "3  https://spiderum.com/bai-dang/Danh-cho-nhung-b...  ...        9811\n",
              "4  https://spiderum.com/bai-dang/Nghe-thuat-dam-p...  ...        7534\n",
              "5  https://spiderum.com/bai-dang/15-DINH-LUAT-VE-...  ...        4914\n",
              "\n",
              "[5 rows x 3 columns]"
            ]
          },
          "metadata": {},
          "execution_count": 37
        }
      ]
    },
    {
      "cell_type": "code",
      "metadata": {
        "id": "9mPujIGSJSPq"
      },
      "source": [
        "posts.to_csv('./posts_cleaned.csv', index=False)"
      ],
      "execution_count": null,
      "outputs": []
    },
    {
      "cell_type": "markdown",
      "metadata": {
        "id": "MboDq6e-ykGJ"
      },
      "source": [
        "## Clean useractionhistories"
      ]
    },
    {
      "cell_type": "code",
      "metadata": {
        "colab": {
          "base_uri": "https://localhost:8080/"
        },
        "id": "I8hmvuwoCXBs",
        "outputId": "60a56042-884f-491c-ad5a-2dad19cb24c4"
      },
      "source": [
        "start = time.time()\n",
        "data = pd.read_csv('./useractionhistories.csv')\n",
        "end = time.time()\n",
        "print(end - start)"
      ],
      "execution_count": null,
      "outputs": [
        {
          "output_type": "stream",
          "name": "stdout",
          "text": [
            "73.86236906051636\n"
          ]
        }
      ]
    },
    {
      "cell_type": "code",
      "metadata": {
        "colab": {
          "base_uri": "https://localhost:8080/",
          "height": 204
        },
        "id": "MYAdFQSnXXMl",
        "outputId": "4cf75761-aef5-47bd-b1a4-42d7bd6140b0"
      },
      "source": [
        "data.tail()"
      ],
      "execution_count": null,
      "outputs": [
        {
          "output_type": "execute_result",
          "data": {
            "text/html": [
              "<div>\n",
              "<style scoped>\n",
              "    .dataframe tbody tr th:only-of-type {\n",
              "        vertical-align: middle;\n",
              "    }\n",
              "\n",
              "    .dataframe tbody tr th {\n",
              "        vertical-align: top;\n",
              "    }\n",
              "\n",
              "    .dataframe thead th {\n",
              "        text-align: right;\n",
              "    }\n",
              "</style>\n",
              "<table border=\"1\" class=\"dataframe\">\n",
              "  <thead>\n",
              "    <tr style=\"text-align: right;\">\n",
              "      <th></th>\n",
              "      <th>_id</th>\n",
              "      <th>user_id</th>\n",
              "      <th>object_id</th>\n",
              "      <th>object</th>\n",
              "      <th>action</th>\n",
              "      <th>redirect_url</th>\n",
              "      <th>created_at</th>\n",
              "      <th>status</th>\n",
              "      <th>__v</th>\n",
              "    </tr>\n",
              "  </thead>\n",
              "  <tbody>\n",
              "    <tr>\n",
              "      <th>16944643</th>\n",
              "      <td>60e9a8068f151f5b0add95ef</td>\n",
              "      <td>86130</td>\n",
              "      <td>42269</td>\n",
              "      <td>post</td>\n",
              "      <td>view</td>\n",
              "      <td>https://spiderum.com/bai-dang/Giang-sinh-phai-...</td>\n",
              "      <td>2021-07-10T14:00:38.323Z</td>\n",
              "      <td>1</td>\n",
              "      <td>0</td>\n",
              "    </tr>\n",
              "    <tr>\n",
              "      <th>16944644</th>\n",
              "      <td>60e9a80af615e061ab467354</td>\n",
              "      <td>40234</td>\n",
              "      <td>23300</td>\n",
              "      <td>post</td>\n",
              "      <td>view</td>\n",
              "      <td>https://spiderum.com/bai-dang/DAY-LA-CACH-DE-H...</td>\n",
              "      <td>2021-07-10T14:00:42.031Z</td>\n",
              "      <td>1</td>\n",
              "      <td>0</td>\n",
              "    </tr>\n",
              "    <tr>\n",
              "      <th>16944645</th>\n",
              "      <td>60e9a80accc8d250dd723b2a</td>\n",
              "      <td>85737</td>\n",
              "      <td>48573</td>\n",
              "      <td>post</td>\n",
              "      <td>view</td>\n",
              "      <td>https://spiderum.com/bai-dang/Truyen-dai-Mua-y...</td>\n",
              "      <td>2021-07-10T14:00:42.670Z</td>\n",
              "      <td>1</td>\n",
              "      <td>0</td>\n",
              "    </tr>\n",
              "    <tr>\n",
              "      <th>16944646</th>\n",
              "      <td>60e9a80f8010d664fb709d68</td>\n",
              "      <td>82254</td>\n",
              "      <td>9551</td>\n",
              "      <td>post</td>\n",
              "      <td>view</td>\n",
              "      <td>https://spiderum.com/bai-dang/Stoicism-P5-Sene...</td>\n",
              "      <td>2021-07-10T14:00:47.447Z</td>\n",
              "      <td>1</td>\n",
              "      <td>0</td>\n",
              "    </tr>\n",
              "    <tr>\n",
              "      <th>16944647</th>\n",
              "      <td>60e9a8108f151f5b0add95f0</td>\n",
              "      <td>79350</td>\n",
              "      <td>48581</td>\n",
              "      <td>post</td>\n",
              "      <td>view</td>\n",
              "      <td>https://spiderum.com/bai-dang/Whats-on-Netflix...</td>\n",
              "      <td>2021-07-10T14:00:48.583Z</td>\n",
              "      <td>1</td>\n",
              "      <td>0</td>\n",
              "    </tr>\n",
              "  </tbody>\n",
              "</table>\n",
              "</div>"
            ],
            "text/plain": [
              "                               _id  user_id  ...  status __v\n",
              "16944643  60e9a8068f151f5b0add95ef    86130  ...       1   0\n",
              "16944644  60e9a80af615e061ab467354    40234  ...       1   0\n",
              "16944645  60e9a80accc8d250dd723b2a    85737  ...       1   0\n",
              "16944646  60e9a80f8010d664fb709d68    82254  ...       1   0\n",
              "16944647  60e9a8108f151f5b0add95f0    79350  ...       1   0\n",
              "\n",
              "[5 rows x 9 columns]"
            ]
          },
          "metadata": {},
          "execution_count": 6
        }
      ]
    },
    {
      "cell_type": "code",
      "metadata": {
        "id": "b6JWhg3PClvY"
      },
      "source": [
        "# Remove not-register user\n",
        "data = data[data['user_id'] != -1]\n",
        "\n",
        "# Drop unnecessary columns\n",
        "data.drop(columns=['_id', '__v', 'status', 'object_id'], inplace=True)\n",
        "\n",
        "print('The number of rows: ' + str(len(data)))"
      ],
      "execution_count": null,
      "outputs": []
    },
    {
      "cell_type": "code",
      "metadata": {
        "id": "m7hG7oykbLPN"
      },
      "source": [
        "# Convert into datetime\n",
        "def convert(x):\n",
        "    year = int(x[:4])\n",
        "    month = int(x[5:7])\n",
        "    day = int(x[8:10])\n",
        "    hour = int(x[11:13])\n",
        "    minute = int(x[14:16])\n",
        "    second = int(x[17:])\n",
        "    return dt.datetime(year, month, day, hour, minute, second)\n",
        "\n",
        "data['created_at'] = data['created_at'].str[:19].apply(lambda x: convert(x))"
      ],
      "execution_count": null,
      "outputs": []
    },
    {
      "cell_type": "code",
      "metadata": {
        "id": "5LY-tO_vbsUt"
      },
      "source": [
        "# Rename some actions\n",
        "data.replace({'action': {'trả lời': 'reply', 'bình luận': 'comment', 'lưu': 'save', 'bỏ vote': 'unvote'},\n",
        "              'object': {'bình luận': 'comment'}}, inplace=True)\n",
        "\n",
        "# Just take the object \"post\" and \"comment\"\n",
        "data = data[(data['object'] == 'post') | (data['object'] == 'comment')]"
      ],
      "execution_count": null,
      "outputs": []
    },
    {
      "cell_type": "code",
      "metadata": {
        "id": "t3EzVrWkbw01"
      },
      "source": [
        "# Convert url link comment to link post\n",
        "def convert(x):\n",
        "    if '?comment' not in x:\n",
        "        return x\n",
        "    else:\n",
        "        return x[:x.index('?comment')]\n",
        "\n",
        "data['redirect_url'] = data['redirect_url'].apply(lambda x: convert(x))"
      ],
      "execution_count": null,
      "outputs": []
    },
    {
      "cell_type": "code",
      "metadata": {
        "id": "2T9dsBfghQaW"
      },
      "source": [
        "# Just keep urls stay in posts dataframe\n",
        "data = data[data['redirect_url'].isin(posts['redirect_url'])]"
      ],
      "execution_count": null,
      "outputs": []
    },
    {
      "cell_type": "code",
      "metadata": {
        "colab": {
          "base_uri": "https://localhost:8080/",
          "height": 204
        },
        "id": "ZeeHqpmyelyc",
        "outputId": "2dcab744-3b99-4185-fded-41cd2e7361ad"
      },
      "source": [
        "data.head()"
      ],
      "execution_count": null,
      "outputs": [
        {
          "output_type": "execute_result",
          "data": {
            "text/html": [
              "<div>\n",
              "<style scoped>\n",
              "    .dataframe tbody tr th:only-of-type {\n",
              "        vertical-align: middle;\n",
              "    }\n",
              "\n",
              "    .dataframe tbody tr th {\n",
              "        vertical-align: top;\n",
              "    }\n",
              "\n",
              "    .dataframe thead th {\n",
              "        text-align: right;\n",
              "    }\n",
              "</style>\n",
              "<table border=\"1\" class=\"dataframe\">\n",
              "  <thead>\n",
              "    <tr style=\"text-align: right;\">\n",
              "      <th></th>\n",
              "      <th>user_id</th>\n",
              "      <th>object</th>\n",
              "      <th>action</th>\n",
              "      <th>redirect_url</th>\n",
              "      <th>created_at</th>\n",
              "    </tr>\n",
              "  </thead>\n",
              "  <tbody>\n",
              "    <tr>\n",
              "      <th>0</th>\n",
              "      <td>2446</td>\n",
              "      <td>post</td>\n",
              "      <td>upvote</td>\n",
              "      <td>https://spiderum.com/bai-dang/Mot-bai-viet-cu-...</td>\n",
              "      <td>2017-03-27 19:56:44</td>\n",
              "    </tr>\n",
              "    <tr>\n",
              "      <th>1</th>\n",
              "      <td>8</td>\n",
              "      <td>post</td>\n",
              "      <td>upvote</td>\n",
              "      <td>https://spiderum.com/bai-dang/Triet-li-tu-ba-d...</td>\n",
              "      <td>2017-03-27 20:13:13</td>\n",
              "    </tr>\n",
              "    <tr>\n",
              "      <th>2</th>\n",
              "      <td>8</td>\n",
              "      <td>post</td>\n",
              "      <td>upvote</td>\n",
              "      <td>https://spiderum.com/bai-dang/Ve-triet-hoc-Tri...</td>\n",
              "      <td>2017-03-27 20:13:18</td>\n",
              "    </tr>\n",
              "    <tr>\n",
              "      <th>3</th>\n",
              "      <td>2408</td>\n",
              "      <td>post</td>\n",
              "      <td>sửa</td>\n",
              "      <td>https://spiderum.com/bai-dang/Mot-bai-viet-cu-...</td>\n",
              "      <td>2017-03-27 20:16:31</td>\n",
              "    </tr>\n",
              "    <tr>\n",
              "      <th>4</th>\n",
              "      <td>2408</td>\n",
              "      <td>post</td>\n",
              "      <td>sửa</td>\n",
              "      <td>https://spiderum.com/bai-dang/Triet-li-tu-ba-d...</td>\n",
              "      <td>2017-03-27 20:16:53</td>\n",
              "    </tr>\n",
              "  </tbody>\n",
              "</table>\n",
              "</div>"
            ],
            "text/plain": [
              "   user_id  ...          created_at\n",
              "0     2446  ... 2017-03-27 19:56:44\n",
              "1        8  ... 2017-03-27 20:13:13\n",
              "2        8  ... 2017-03-27 20:13:18\n",
              "3     2408  ... 2017-03-27 20:16:31\n",
              "4     2408  ... 2017-03-27 20:16:53\n",
              "\n",
              "[5 rows x 5 columns]"
            ]
          },
          "metadata": {},
          "execution_count": 25
        }
      ]
    },
    {
      "cell_type": "code",
      "metadata": {
        "id": "EoeNnOUKhfDL"
      },
      "source": [
        "# Save to a new csv file\n",
        "data.to_csv('./useraction_cleaned.csv', index=False)"
      ],
      "execution_count": null,
      "outputs": []
    },
    {
      "cell_type": "markdown",
      "metadata": {
        "id": "rFRDhJt9FjXb"
      },
      "source": [
        "**Preprocess vote information**"
      ]
    },
    {
      "cell_type": "code",
      "metadata": {
        "id": "bqRcguJlj86H"
      },
      "source": [
        "# Read file csv\n",
        "useraction_CF = pd.read_csv('./useraction_cleaned.csv')"
      ],
      "execution_count": null,
      "outputs": []
    },
    {
      "cell_type": "code",
      "metadata": {
        "colab": {
          "base_uri": "https://localhost:8080/",
          "height": 238
        },
        "id": "xeHNNef2V-z0",
        "outputId": "c5b7223c-7a62-442c-c090-56882ca75630"
      },
      "source": [
        "# Preprocess vote information\n",
        "vote_CF = useraction_CF[(useraction_CF['action'] == 'upvote') | (useraction_CF['action'] == 'downvote') | (useraction_CF['action'] == 'unvote')][useraction_CF['object'] == 'post']\n",
        "vote_CF.tail(5)"
      ],
      "execution_count": null,
      "outputs": [
        {
          "output_type": "stream",
          "name": "stderr",
          "text": [
            "/usr/local/lib/python3.7/dist-packages/ipykernel_launcher.py:2: UserWarning: Boolean Series key will be reindexed to match DataFrame index.\n",
            "  \n"
          ]
        },
        {
          "output_type": "execute_result",
          "data": {
            "text/html": [
              "<div>\n",
              "<style scoped>\n",
              "    .dataframe tbody tr th:only-of-type {\n",
              "        vertical-align: middle;\n",
              "    }\n",
              "\n",
              "    .dataframe tbody tr th {\n",
              "        vertical-align: top;\n",
              "    }\n",
              "\n",
              "    .dataframe thead th {\n",
              "        text-align: right;\n",
              "    }\n",
              "</style>\n",
              "<table border=\"1\" class=\"dataframe\">\n",
              "  <thead>\n",
              "    <tr style=\"text-align: right;\">\n",
              "      <th></th>\n",
              "      <th>user_id</th>\n",
              "      <th>object</th>\n",
              "      <th>action</th>\n",
              "      <th>redirect_url</th>\n",
              "      <th>created_at</th>\n",
              "    </tr>\n",
              "  </thead>\n",
              "  <tbody>\n",
              "    <tr>\n",
              "      <th>3610073</th>\n",
              "      <td>10701</td>\n",
              "      <td>post</td>\n",
              "      <td>upvote</td>\n",
              "      <td>https://spiderum.com/bai-dang/Vi-buon-kd8</td>\n",
              "      <td>2019-12-31 22:33:53</td>\n",
              "    </tr>\n",
              "    <tr>\n",
              "      <th>3610076</th>\n",
              "      <td>10701</td>\n",
              "      <td>post</td>\n",
              "      <td>upvote</td>\n",
              "      <td>https://spiderum.com/bai-dang/Bon-nghe-sy-gme</td>\n",
              "      <td>2019-12-31 22:35:09</td>\n",
              "    </tr>\n",
              "    <tr>\n",
              "      <th>3610077</th>\n",
              "      <td>10701</td>\n",
              "      <td>post</td>\n",
              "      <td>upvote</td>\n",
              "      <td>https://spiderum.com/bai-dang/Luong-tam-dao-du...</td>\n",
              "      <td>2019-12-31 22:35:17</td>\n",
              "    </tr>\n",
              "    <tr>\n",
              "      <th>3610100</th>\n",
              "      <td>36392</td>\n",
              "      <td>post</td>\n",
              "      <td>upvote</td>\n",
              "      <td>https://spiderum.com/bai-dang/Viet-cho-em-101-...</td>\n",
              "      <td>2019-12-31 23:53:42</td>\n",
              "    </tr>\n",
              "    <tr>\n",
              "      <th>3610102</th>\n",
              "      <td>36392</td>\n",
              "      <td>post</td>\n",
              "      <td>upvote</td>\n",
              "      <td>https://spiderum.com/bai-dang/Dem-cuoi-nam-kj0</td>\n",
              "      <td>2019-12-31 23:55:29</td>\n",
              "    </tr>\n",
              "  </tbody>\n",
              "</table>\n",
              "</div>"
            ],
            "text/plain": [
              "         user_id  ...           created_at\n",
              "3610073    10701  ...  2019-12-31 22:33:53\n",
              "3610076    10701  ...  2019-12-31 22:35:09\n",
              "3610077    10701  ...  2019-12-31 22:35:17\n",
              "3610100    36392  ...  2019-12-31 23:53:42\n",
              "3610102    36392  ...  2019-12-31 23:55:29\n",
              "\n",
              "[5 rows x 5 columns]"
            ]
          },
          "metadata": {},
          "execution_count": 11
        }
      ]
    },
    {
      "cell_type": "code",
      "metadata": {
        "id": "92MmX4vE83Zi",
        "colab": {
          "base_uri": "https://localhost:8080/",
          "height": 204
        },
        "outputId": "2661b965-f9fd-4662-8f5b-f071c194eb9a"
      },
      "source": [
        "# Contraction of df\n",
        "vote_CF = vote_CF.groupby(['user_id', 'redirect_url']).nth(-1).reset_index()\n",
        "vote_CF = vote_CF[vote_CF['action'] != 'unvote']\n",
        "vote_CF = vote_CF[['user_id', 'redirect_url', 'action', 'created_at']]\n",
        "vote_CF.head()"
      ],
      "execution_count": null,
      "outputs": [
        {
          "output_type": "execute_result",
          "data": {
            "text/html": [
              "<div>\n",
              "<style scoped>\n",
              "    .dataframe tbody tr th:only-of-type {\n",
              "        vertical-align: middle;\n",
              "    }\n",
              "\n",
              "    .dataframe tbody tr th {\n",
              "        vertical-align: top;\n",
              "    }\n",
              "\n",
              "    .dataframe thead th {\n",
              "        text-align: right;\n",
              "    }\n",
              "</style>\n",
              "<table border=\"1\" class=\"dataframe\">\n",
              "  <thead>\n",
              "    <tr style=\"text-align: right;\">\n",
              "      <th></th>\n",
              "      <th>user_id</th>\n",
              "      <th>redirect_url</th>\n",
              "      <th>action</th>\n",
              "      <th>created_at</th>\n",
              "    </tr>\n",
              "  </thead>\n",
              "  <tbody>\n",
              "    <tr>\n",
              "      <th>0</th>\n",
              "      <td>5</td>\n",
              "      <td>https://spiderum.com/bai-dang/Toi-chi-muon-con...</td>\n",
              "      <td>upvote</td>\n",
              "      <td>2019-08-09 07:00:21</td>\n",
              "    </tr>\n",
              "    <tr>\n",
              "      <th>1</th>\n",
              "      <td>8</td>\n",
              "      <td>https://spiderum.com/bai-dang/-c1l</td>\n",
              "      <td>upvote</td>\n",
              "      <td>2018-09-16 06:17:09</td>\n",
              "    </tr>\n",
              "    <tr>\n",
              "      <th>2</th>\n",
              "      <td>8</td>\n",
              "      <td>https://spiderum.com/bai-dang/01-Chao-dang-ay-...</td>\n",
              "      <td>upvote</td>\n",
              "      <td>2019-10-09 22:38:35</td>\n",
              "    </tr>\n",
              "    <tr>\n",
              "      <th>3</th>\n",
              "      <td>8</td>\n",
              "      <td>https://spiderum.com/bai-dang/03-lan-lam-xe-om...</td>\n",
              "      <td>upvote</td>\n",
              "      <td>2017-05-26 08:44:31</td>\n",
              "    </tr>\n",
              "    <tr>\n",
              "      <th>4</th>\n",
              "      <td>8</td>\n",
              "      <td>https://spiderum.com/bai-dang/06102019-REVIEW-...</td>\n",
              "      <td>upvote</td>\n",
              "      <td>2019-11-23 20:22:48</td>\n",
              "    </tr>\n",
              "  </tbody>\n",
              "</table>\n",
              "</div>"
            ],
            "text/plain": [
              "   user_id  ...           created_at\n",
              "0        5  ...  2019-08-09 07:00:21\n",
              "1        8  ...  2018-09-16 06:17:09\n",
              "2        8  ...  2019-10-09 22:38:35\n",
              "3        8  ...  2017-05-26 08:44:31\n",
              "4        8  ...  2019-11-23 20:22:48\n",
              "\n",
              "[5 rows x 4 columns]"
            ]
          },
          "metadata": {},
          "execution_count": 12
        }
      ]
    },
    {
      "cell_type": "markdown",
      "metadata": {
        "id": "h9xuDsrbGDBt"
      },
      "source": [
        "**Preprocess comment information**"
      ]
    },
    {
      "cell_type": "code",
      "metadata": {
        "colab": {
          "base_uri": "https://localhost:8080/",
          "height": 204
        },
        "id": "1Cibq3_OI2mE",
        "outputId": "8769917c-9f55-4291-eb3c-a9eaa14c3c2a"
      },
      "source": [
        "comment_CF = useraction_CF[(useraction_CF['action'] == 'comment') | (useraction_CF['object'] == 'comment')]\n",
        "comment_CF.head()"
      ],
      "execution_count": null,
      "outputs": [
        {
          "output_type": "execute_result",
          "data": {
            "text/html": [
              "<div>\n",
              "<style scoped>\n",
              "    .dataframe tbody tr th:only-of-type {\n",
              "        vertical-align: middle;\n",
              "    }\n",
              "\n",
              "    .dataframe tbody tr th {\n",
              "        vertical-align: top;\n",
              "    }\n",
              "\n",
              "    .dataframe thead th {\n",
              "        text-align: right;\n",
              "    }\n",
              "</style>\n",
              "<table border=\"1\" class=\"dataframe\">\n",
              "  <thead>\n",
              "    <tr style=\"text-align: right;\">\n",
              "      <th></th>\n",
              "      <th>user_id</th>\n",
              "      <th>object</th>\n",
              "      <th>action</th>\n",
              "      <th>redirect_url</th>\n",
              "      <th>created_at</th>\n",
              "    </tr>\n",
              "  </thead>\n",
              "  <tbody>\n",
              "    <tr>\n",
              "      <th>14</th>\n",
              "      <td>5552</td>\n",
              "      <td>comment</td>\n",
              "      <td>reply</td>\n",
              "      <td>https://spiderum.com/bai-dang/Thiet-ke-luat-ch...</td>\n",
              "      <td>2017-03-27 20:27:29</td>\n",
              "    </tr>\n",
              "    <tr>\n",
              "      <th>15</th>\n",
              "      <td>5552</td>\n",
              "      <td>comment</td>\n",
              "      <td>upvote</td>\n",
              "      <td>https://spiderum.com/bai-dang/Thiet-ke-luat-ch...</td>\n",
              "      <td>2017-03-27 20:27:30</td>\n",
              "    </tr>\n",
              "    <tr>\n",
              "      <th>16</th>\n",
              "      <td>5552</td>\n",
              "      <td>comment</td>\n",
              "      <td>reply</td>\n",
              "      <td>https://spiderum.com/bai-dang/Thiet-ke-luat-ch...</td>\n",
              "      <td>2017-03-27 20:27:40</td>\n",
              "    </tr>\n",
              "    <tr>\n",
              "      <th>25</th>\n",
              "      <td>4025</td>\n",
              "      <td>comment</td>\n",
              "      <td>upvote</td>\n",
              "      <td>https://spiderum.com/bai-dang/Mot-bai-viet-cu-...</td>\n",
              "      <td>2017-03-27 20:33:04</td>\n",
              "    </tr>\n",
              "    <tr>\n",
              "      <th>27</th>\n",
              "      <td>4025</td>\n",
              "      <td>comment</td>\n",
              "      <td>upvote</td>\n",
              "      <td>https://spiderum.com/bai-dang/Mot-bai-viet-cu-...</td>\n",
              "      <td>2017-03-27 20:33:23</td>\n",
              "    </tr>\n",
              "  </tbody>\n",
              "</table>\n",
              "</div>"
            ],
            "text/plain": [
              "    user_id  ...           created_at\n",
              "14     5552  ...  2017-03-27 20:27:29\n",
              "15     5552  ...  2017-03-27 20:27:30\n",
              "16     5552  ...  2017-03-27 20:27:40\n",
              "25     4025  ...  2017-03-27 20:33:04\n",
              "27     4025  ...  2017-03-27 20:33:23\n",
              "\n",
              "[5 rows x 5 columns]"
            ]
          },
          "metadata": {},
          "execution_count": 13
        }
      ]
    },
    {
      "cell_type": "code",
      "metadata": {
        "colab": {
          "base_uri": "https://localhost:8080/",
          "height": 306
        },
        "id": "el5KWrijfKtQ",
        "outputId": "b3a67756-064e-4e65-b6cf-1ac834cee66d"
      },
      "source": [
        "# Process comment_CF\n",
        "\n",
        "comment_CF['action'] = 'comment'\n",
        "comment_CF = comment_CF[['user_id', 'redirect_url', 'action', 'created_at']]\n",
        "comment_CF.drop_duplicates(subset=['user_id', 'redirect_url'], keep='last', inplace=True)\n",
        "comment_CF.head()"
      ],
      "execution_count": null,
      "outputs": [
        {
          "output_type": "stream",
          "name": "stderr",
          "text": [
            "/usr/local/lib/python3.7/dist-packages/ipykernel_launcher.py:3: SettingWithCopyWarning: \n",
            "A value is trying to be set on a copy of a slice from a DataFrame.\n",
            "Try using .loc[row_indexer,col_indexer] = value instead\n",
            "\n",
            "See the caveats in the documentation: https://pandas.pydata.org/pandas-docs/stable/user_guide/indexing.html#returning-a-view-versus-a-copy\n",
            "  This is separate from the ipykernel package so we can avoid doing imports until\n"
          ]
        },
        {
          "output_type": "execute_result",
          "data": {
            "text/html": [
              "<div>\n",
              "<style scoped>\n",
              "    .dataframe tbody tr th:only-of-type {\n",
              "        vertical-align: middle;\n",
              "    }\n",
              "\n",
              "    .dataframe tbody tr th {\n",
              "        vertical-align: top;\n",
              "    }\n",
              "\n",
              "    .dataframe thead th {\n",
              "        text-align: right;\n",
              "    }\n",
              "</style>\n",
              "<table border=\"1\" class=\"dataframe\">\n",
              "  <thead>\n",
              "    <tr style=\"text-align: right;\">\n",
              "      <th></th>\n",
              "      <th>user_id</th>\n",
              "      <th>redirect_url</th>\n",
              "      <th>action</th>\n",
              "      <th>created_at</th>\n",
              "    </tr>\n",
              "  </thead>\n",
              "  <tbody>\n",
              "    <tr>\n",
              "      <th>27</th>\n",
              "      <td>4025</td>\n",
              "      <td>https://spiderum.com/bai-dang/Mot-bai-viet-cu-...</td>\n",
              "      <td>comment</td>\n",
              "      <td>2017-03-27 20:33:23</td>\n",
              "    </tr>\n",
              "    <tr>\n",
              "      <th>41</th>\n",
              "      <td>8</td>\n",
              "      <td>https://spiderum.com/bai-dang/Ve-triet-hoc-Tri...</td>\n",
              "      <td>comment</td>\n",
              "      <td>2017-03-27 20:45:56</td>\n",
              "    </tr>\n",
              "    <tr>\n",
              "      <th>42</th>\n",
              "      <td>8</td>\n",
              "      <td>https://spiderum.com/bai-dang/Triet-li-tu-ba-d...</td>\n",
              "      <td>comment</td>\n",
              "      <td>2017-03-27 21:00:09</td>\n",
              "    </tr>\n",
              "    <tr>\n",
              "      <th>43</th>\n",
              "      <td>8</td>\n",
              "      <td>https://spiderum.com/bai-dang/Cac-ki-thuat-tuy...</td>\n",
              "      <td>comment</td>\n",
              "      <td>2017-03-27 21:16:10</td>\n",
              "    </tr>\n",
              "    <tr>\n",
              "      <th>46</th>\n",
              "      <td>5552</td>\n",
              "      <td>https://spiderum.com/bai-dang/Learning-How-to-...</td>\n",
              "      <td>comment</td>\n",
              "      <td>2017-03-27 22:14:22</td>\n",
              "    </tr>\n",
              "  </tbody>\n",
              "</table>\n",
              "</div>"
            ],
            "text/plain": [
              "    user_id  ...           created_at\n",
              "27     4025  ...  2017-03-27 20:33:23\n",
              "41        8  ...  2017-03-27 20:45:56\n",
              "42        8  ...  2017-03-27 21:00:09\n",
              "43        8  ...  2017-03-27 21:16:10\n",
              "46     5552  ...  2017-03-27 22:14:22\n",
              "\n",
              "[5 rows x 4 columns]"
            ]
          },
          "metadata": {},
          "execution_count": 14
        }
      ]
    },
    {
      "cell_type": "markdown",
      "metadata": {
        "id": "mIvvVWv_2xNt"
      },
      "source": [
        "**Preprocess save information**"
      ]
    },
    {
      "cell_type": "code",
      "metadata": {
        "colab": {
          "base_uri": "https://localhost:8080/",
          "height": 204
        },
        "id": "RqKgW6Oc23lU",
        "outputId": "de7e6b8f-6094-4b36-aa57-4fadb4943cf2"
      },
      "source": [
        "save_CF = useraction_CF[(useraction_CF['action'] == 'save') & (useraction_CF['object'] == 'post')]\n",
        "save_CF.head()"
      ],
      "execution_count": null,
      "outputs": [
        {
          "output_type": "execute_result",
          "data": {
            "text/html": [
              "<div>\n",
              "<style scoped>\n",
              "    .dataframe tbody tr th:only-of-type {\n",
              "        vertical-align: middle;\n",
              "    }\n",
              "\n",
              "    .dataframe tbody tr th {\n",
              "        vertical-align: top;\n",
              "    }\n",
              "\n",
              "    .dataframe thead th {\n",
              "        text-align: right;\n",
              "    }\n",
              "</style>\n",
              "<table border=\"1\" class=\"dataframe\">\n",
              "  <thead>\n",
              "    <tr style=\"text-align: right;\">\n",
              "      <th></th>\n",
              "      <th>user_id</th>\n",
              "      <th>object</th>\n",
              "      <th>action</th>\n",
              "      <th>redirect_url</th>\n",
              "      <th>created_at</th>\n",
              "    </tr>\n",
              "  </thead>\n",
              "  <tbody>\n",
              "    <tr>\n",
              "      <th>11</th>\n",
              "      <td>4025</td>\n",
              "      <td>post</td>\n",
              "      <td>save</td>\n",
              "      <td>https://spiderum.com/bai-dang/Vi-sao-Deadpool-...</td>\n",
              "      <td>2017-03-27 20:22:08</td>\n",
              "    </tr>\n",
              "    <tr>\n",
              "      <th>247</th>\n",
              "      <td>6739</td>\n",
              "      <td>post</td>\n",
              "      <td>save</td>\n",
              "      <td>https://spiderum.com/bai-dang/Nhat-ky-ngay-and...</td>\n",
              "      <td>2017-03-28 08:36:10</td>\n",
              "    </tr>\n",
              "    <tr>\n",
              "      <th>248</th>\n",
              "      <td>6739</td>\n",
              "      <td>post</td>\n",
              "      <td>save</td>\n",
              "      <td>https://spiderum.com/bai-dang/Nhat-ky-ngay-and...</td>\n",
              "      <td>2017-03-28 08:36:14</td>\n",
              "    </tr>\n",
              "    <tr>\n",
              "      <th>411</th>\n",
              "      <td>3904</td>\n",
              "      <td>post</td>\n",
              "      <td>save</td>\n",
              "      <td>https://spiderum.com/bai-dang/Cuoc-chien-tranh...</td>\n",
              "      <td>2017-03-28 20:46:07</td>\n",
              "    </tr>\n",
              "    <tr>\n",
              "      <th>424</th>\n",
              "      <td>4025</td>\n",
              "      <td>post</td>\n",
              "      <td>save</td>\n",
              "      <td>https://spiderum.com/bai-dang/Kitchen-101-Cau-...</td>\n",
              "      <td>2017-03-29 01:00:19</td>\n",
              "    </tr>\n",
              "  </tbody>\n",
              "</table>\n",
              "</div>"
            ],
            "text/plain": [
              "     user_id  ...           created_at\n",
              "11      4025  ...  2017-03-27 20:22:08\n",
              "247     6739  ...  2017-03-28 08:36:10\n",
              "248     6739  ...  2017-03-28 08:36:14\n",
              "411     3904  ...  2017-03-28 20:46:07\n",
              "424     4025  ...  2017-03-29 01:00:19\n",
              "\n",
              "[5 rows x 5 columns]"
            ]
          },
          "metadata": {},
          "execution_count": 15
        }
      ]
    },
    {
      "cell_type": "code",
      "metadata": {
        "colab": {
          "base_uri": "https://localhost:8080/",
          "height": 204
        },
        "id": "aJDKVRzG3FXP",
        "outputId": "f4d0d631-d421-4ffe-ccf9-7197ad7b6f6f"
      },
      "source": [
        "save_CF = save_CF[['user_id', 'redirect_url', 'action', 'created_at']]\n",
        "save_CF.drop_duplicates(subset=['user_id', 'redirect_url'], keep='last', inplace=True)\n",
        "save_CF.head()"
      ],
      "execution_count": null,
      "outputs": [
        {
          "output_type": "execute_result",
          "data": {
            "text/html": [
              "<div>\n",
              "<style scoped>\n",
              "    .dataframe tbody tr th:only-of-type {\n",
              "        vertical-align: middle;\n",
              "    }\n",
              "\n",
              "    .dataframe tbody tr th {\n",
              "        vertical-align: top;\n",
              "    }\n",
              "\n",
              "    .dataframe thead th {\n",
              "        text-align: right;\n",
              "    }\n",
              "</style>\n",
              "<table border=\"1\" class=\"dataframe\">\n",
              "  <thead>\n",
              "    <tr style=\"text-align: right;\">\n",
              "      <th></th>\n",
              "      <th>user_id</th>\n",
              "      <th>redirect_url</th>\n",
              "      <th>action</th>\n",
              "      <th>created_at</th>\n",
              "    </tr>\n",
              "  </thead>\n",
              "  <tbody>\n",
              "    <tr>\n",
              "      <th>11</th>\n",
              "      <td>4025</td>\n",
              "      <td>https://spiderum.com/bai-dang/Vi-sao-Deadpool-...</td>\n",
              "      <td>save</td>\n",
              "      <td>2017-03-27 20:22:08</td>\n",
              "    </tr>\n",
              "    <tr>\n",
              "      <th>248</th>\n",
              "      <td>6739</td>\n",
              "      <td>https://spiderum.com/bai-dang/Nhat-ky-ngay-and...</td>\n",
              "      <td>save</td>\n",
              "      <td>2017-03-28 08:36:14</td>\n",
              "    </tr>\n",
              "    <tr>\n",
              "      <th>411</th>\n",
              "      <td>3904</td>\n",
              "      <td>https://spiderum.com/bai-dang/Cuoc-chien-tranh...</td>\n",
              "      <td>save</td>\n",
              "      <td>2017-03-28 20:46:07</td>\n",
              "    </tr>\n",
              "    <tr>\n",
              "      <th>424</th>\n",
              "      <td>4025</td>\n",
              "      <td>https://spiderum.com/bai-dang/Kitchen-101-Cau-...</td>\n",
              "      <td>save</td>\n",
              "      <td>2017-03-29 01:00:19</td>\n",
              "    </tr>\n",
              "    <tr>\n",
              "      <th>427</th>\n",
              "      <td>6871</td>\n",
              "      <td>https://spiderum.com/bai-dang/Dua-con-cua-than...</td>\n",
              "      <td>save</td>\n",
              "      <td>2017-03-29 01:06:44</td>\n",
              "    </tr>\n",
              "  </tbody>\n",
              "</table>\n",
              "</div>"
            ],
            "text/plain": [
              "     user_id  ...           created_at\n",
              "11      4025  ...  2017-03-27 20:22:08\n",
              "248     6739  ...  2017-03-28 08:36:14\n",
              "411     3904  ...  2017-03-28 20:46:07\n",
              "424     4025  ...  2017-03-29 01:00:19\n",
              "427     6871  ...  2017-03-29 01:06:44\n",
              "\n",
              "[5 rows x 4 columns]"
            ]
          },
          "metadata": {},
          "execution_count": 16
        }
      ]
    },
    {
      "cell_type": "markdown",
      "metadata": {
        "id": "DBvRTzpB5MjP"
      },
      "source": [
        "**Final df**"
      ]
    },
    {
      "cell_type": "code",
      "metadata": {
        "colab": {
          "base_uri": "https://localhost:8080/",
          "height": 204
        },
        "id": "7T9sJT4R5Usv",
        "outputId": "87f384b5-6205-4370-bdd4-9d121c106795"
      },
      "source": [
        "final_df = vote_CF.append(comment_CF).append(save_CF)\n",
        "final_df = final_df.groupby(['user_id', 'redirect_url']).agg({'action': lambda x: tuple(x), 'created_at': lambda x: max(list(x))}).reset_index()\n",
        "final_df.head()"
      ],
      "execution_count": null,
      "outputs": [
        {
          "output_type": "execute_result",
          "data": {
            "text/html": [
              "<div>\n",
              "<style scoped>\n",
              "    .dataframe tbody tr th:only-of-type {\n",
              "        vertical-align: middle;\n",
              "    }\n",
              "\n",
              "    .dataframe tbody tr th {\n",
              "        vertical-align: top;\n",
              "    }\n",
              "\n",
              "    .dataframe thead th {\n",
              "        text-align: right;\n",
              "    }\n",
              "</style>\n",
              "<table border=\"1\" class=\"dataframe\">\n",
              "  <thead>\n",
              "    <tr style=\"text-align: right;\">\n",
              "      <th></th>\n",
              "      <th>user_id</th>\n",
              "      <th>redirect_url</th>\n",
              "      <th>action</th>\n",
              "      <th>created_at</th>\n",
              "    </tr>\n",
              "  </thead>\n",
              "  <tbody>\n",
              "    <tr>\n",
              "      <th>0</th>\n",
              "      <td>5</td>\n",
              "      <td>https://spiderum.com/bai-dang/Toi-chi-muon-con...</td>\n",
              "      <td>(upvote,)</td>\n",
              "      <td>2019-08-09 07:00:21</td>\n",
              "    </tr>\n",
              "    <tr>\n",
              "      <th>1</th>\n",
              "      <td>8</td>\n",
              "      <td>https://spiderum.com/bai-dang/-c1l</td>\n",
              "      <td>(upvote,)</td>\n",
              "      <td>2018-09-16 06:17:09</td>\n",
              "    </tr>\n",
              "    <tr>\n",
              "      <th>2</th>\n",
              "      <td>8</td>\n",
              "      <td>https://spiderum.com/bai-dang/01-Chao-dang-ay-...</td>\n",
              "      <td>(upvote,)</td>\n",
              "      <td>2019-10-09 22:38:35</td>\n",
              "    </tr>\n",
              "    <tr>\n",
              "      <th>3</th>\n",
              "      <td>8</td>\n",
              "      <td>https://spiderum.com/bai-dang/03-lan-lam-xe-om...</td>\n",
              "      <td>(upvote,)</td>\n",
              "      <td>2017-05-26 08:44:31</td>\n",
              "    </tr>\n",
              "    <tr>\n",
              "      <th>4</th>\n",
              "      <td>8</td>\n",
              "      <td>https://spiderum.com/bai-dang/06102019-REVIEW-...</td>\n",
              "      <td>(upvote,)</td>\n",
              "      <td>2019-11-23 20:22:48</td>\n",
              "    </tr>\n",
              "  </tbody>\n",
              "</table>\n",
              "</div>"
            ],
            "text/plain": [
              "   user_id  ...           created_at\n",
              "0        5  ...  2019-08-09 07:00:21\n",
              "1        8  ...  2018-09-16 06:17:09\n",
              "2        8  ...  2019-10-09 22:38:35\n",
              "3        8  ...  2017-05-26 08:44:31\n",
              "4        8  ...  2019-11-23 20:22:48\n",
              "\n",
              "[5 rows x 4 columns]"
            ]
          },
          "metadata": {},
          "execution_count": 17
        }
      ]
    },
    {
      "cell_type": "code",
      "metadata": {
        "colab": {
          "base_uri": "https://localhost:8080/",
          "height": 204
        },
        "id": "xd37z38X_huI",
        "outputId": "507777aa-d6cc-48a8-ae13-e3c8c5f99fb5"
      },
      "source": [
        "def action_to_rating(x):\n",
        "    if 'downvote' in x:\n",
        "        return -1\n",
        "    return len(x)\n",
        "\n",
        "final_df['rating'] = final_df['action'].apply(lambda x: action_to_rating(x))\n",
        "final_df.head()"
      ],
      "execution_count": null,
      "outputs": [
        {
          "output_type": "execute_result",
          "data": {
            "text/html": [
              "<div>\n",
              "<style scoped>\n",
              "    .dataframe tbody tr th:only-of-type {\n",
              "        vertical-align: middle;\n",
              "    }\n",
              "\n",
              "    .dataframe tbody tr th {\n",
              "        vertical-align: top;\n",
              "    }\n",
              "\n",
              "    .dataframe thead th {\n",
              "        text-align: right;\n",
              "    }\n",
              "</style>\n",
              "<table border=\"1\" class=\"dataframe\">\n",
              "  <thead>\n",
              "    <tr style=\"text-align: right;\">\n",
              "      <th></th>\n",
              "      <th>user_id</th>\n",
              "      <th>redirect_url</th>\n",
              "      <th>action</th>\n",
              "      <th>created_at</th>\n",
              "      <th>rating</th>\n",
              "    </tr>\n",
              "  </thead>\n",
              "  <tbody>\n",
              "    <tr>\n",
              "      <th>0</th>\n",
              "      <td>5</td>\n",
              "      <td>https://spiderum.com/bai-dang/Toi-chi-muon-con...</td>\n",
              "      <td>(upvote,)</td>\n",
              "      <td>2019-08-09 07:00:21</td>\n",
              "      <td>1</td>\n",
              "    </tr>\n",
              "    <tr>\n",
              "      <th>1</th>\n",
              "      <td>8</td>\n",
              "      <td>https://spiderum.com/bai-dang/-c1l</td>\n",
              "      <td>(upvote,)</td>\n",
              "      <td>2018-09-16 06:17:09</td>\n",
              "      <td>1</td>\n",
              "    </tr>\n",
              "    <tr>\n",
              "      <th>2</th>\n",
              "      <td>8</td>\n",
              "      <td>https://spiderum.com/bai-dang/01-Chao-dang-ay-...</td>\n",
              "      <td>(upvote,)</td>\n",
              "      <td>2019-10-09 22:38:35</td>\n",
              "      <td>1</td>\n",
              "    </tr>\n",
              "    <tr>\n",
              "      <th>3</th>\n",
              "      <td>8</td>\n",
              "      <td>https://spiderum.com/bai-dang/03-lan-lam-xe-om...</td>\n",
              "      <td>(upvote,)</td>\n",
              "      <td>2017-05-26 08:44:31</td>\n",
              "      <td>1</td>\n",
              "    </tr>\n",
              "    <tr>\n",
              "      <th>4</th>\n",
              "      <td>8</td>\n",
              "      <td>https://spiderum.com/bai-dang/06102019-REVIEW-...</td>\n",
              "      <td>(upvote,)</td>\n",
              "      <td>2019-11-23 20:22:48</td>\n",
              "      <td>1</td>\n",
              "    </tr>\n",
              "  </tbody>\n",
              "</table>\n",
              "</div>"
            ],
            "text/plain": [
              "   user_id  ... rating\n",
              "0        5  ...      1\n",
              "1        8  ...      1\n",
              "2        8  ...      1\n",
              "3        8  ...      1\n",
              "4        8  ...      1\n",
              "\n",
              "[5 rows x 5 columns]"
            ]
          },
          "metadata": {},
          "execution_count": 18
        }
      ]
    },
    {
      "cell_type": "code",
      "metadata": {
        "id": "r647N-hl62tm"
      },
      "source": [
        "final_df[['user_id', 'redirect_url', 'rating', 'created_at']].to_csv('./Data for CF/cleaned_data.csv', index=False)"
      ],
      "execution_count": null,
      "outputs": []
    },
    {
      "cell_type": "markdown",
      "metadata": {
        "id": "TogscRVCOCe8"
      },
      "source": [
        "# **Preprocess interact information**"
      ]
    },
    {
      "cell_type": "code",
      "metadata": {
        "colab": {
          "base_uri": "https://localhost:8080/"
        },
        "id": "nYQfjdPRTJfC",
        "outputId": "4e26f0de-a557-47f0-89f6-b22e8ac7f157"
      },
      "source": [
        "interact_CF = useraction_CF[useraction_CF['action'] == 'view'][['user_id', 'redirect_url', 'created_at']] \\\n",
        "              .append(final_df[['user_id', 'redirect_url', 'created_at']]) \\\n",
        "              .sort_values(by=['user_id', 'created_at']) \\\n",
        "              .drop_duplicates(subset=['user_id', 'redirect_url'], keep='last')\n",
        "len(interact_CF)"
      ],
      "execution_count": null,
      "outputs": [
        {
          "output_type": "execute_result",
          "data": {
            "text/plain": [
              "1774969"
            ]
          },
          "metadata": {},
          "execution_count": 20
        }
      ]
    },
    {
      "cell_type": "code",
      "metadata": {
        "colab": {
          "base_uri": "https://localhost:8080/"
        },
        "id": "7-3TuvVxODwb",
        "outputId": "0176b214-63fc-4554-bb33-707f1340cd87"
      },
      "source": [
        "interact_CF.head()"
      ],
      "execution_count": null,
      "outputs": [
        {
          "output_type": "execute_result",
          "data": {
            "text/html": [
              "<div>\n",
              "<style scoped>\n",
              "    .dataframe tbody tr th:only-of-type {\n",
              "        vertical-align: middle;\n",
              "    }\n",
              "\n",
              "    .dataframe tbody tr th {\n",
              "        vertical-align: top;\n",
              "    }\n",
              "\n",
              "    .dataframe thead th {\n",
              "        text-align: right;\n",
              "    }\n",
              "</style>\n",
              "<table border=\"1\" class=\"dataframe\">\n",
              "  <thead>\n",
              "    <tr style=\"text-align: right;\">\n",
              "      <th></th>\n",
              "      <th>user_id</th>\n",
              "      <th>redirect_url</th>\n",
              "      <th>created_at</th>\n",
              "    </tr>\n",
              "  </thead>\n",
              "  <tbody>\n",
              "    <tr>\n",
              "      <th>0</th>\n",
              "      <td>5</td>\n",
              "      <td>https://spiderum.com/bai-dang/Toi-chi-muon-con...</td>\n",
              "      <td>2019-08-09 07:00:21</td>\n",
              "    </tr>\n",
              "    <tr>\n",
              "      <th>3399</th>\n",
              "      <td>8</td>\n",
              "      <td>https://spiderum.com/bai-dang/Ve-triet-hoc-Tri...</td>\n",
              "      <td>2017-03-27 20:45:56</td>\n",
              "    </tr>\n",
              "    <tr>\n",
              "      <th>509</th>\n",
              "      <td>8</td>\n",
              "      <td>https://spiderum.com/bai-dang/Cac-ki-thuat-tuy...</td>\n",
              "      <td>2017-03-27 21:16:10</td>\n",
              "    </tr>\n",
              "    <tr>\n",
              "      <th>2927</th>\n",
              "      <td>8</td>\n",
              "      <td>https://spiderum.com/bai-dang/Tha-khong-co-dao...</td>\n",
              "      <td>2017-03-28 03:11:40</td>\n",
              "    </tr>\n",
              "    <tr>\n",
              "      <th>2869</th>\n",
              "      <td>8</td>\n",
              "      <td>https://spiderum.com/bai-dang/Tai-sao-the-gioi...</td>\n",
              "      <td>2017-03-28 03:11:46</td>\n",
              "    </tr>\n",
              "  </tbody>\n",
              "</table>\n",
              "</div>"
            ],
            "text/plain": [
              "      user_id  ...           created_at\n",
              "0           5  ...  2019-08-09 07:00:21\n",
              "3399        8  ...  2017-03-27 20:45:56\n",
              "509         8  ...  2017-03-27 21:16:10\n",
              "2927        8  ...  2017-03-28 03:11:40\n",
              "2869        8  ...  2017-03-28 03:11:46\n",
              "\n",
              "[5 rows x 3 columns]"
            ]
          },
          "metadata": {},
          "execution_count": 21
        }
      ]
    },
    {
      "cell_type": "code",
      "metadata": {
        "id": "gEXEK8uwQ2M2"
      },
      "source": [
        "interact_CF.to_csv('./Data for CF/interact_CF.csv', index=False)"
      ],
      "execution_count": null,
      "outputs": []
    },
    {
      "cell_type": "code",
      "metadata": {
        "id": "b7ji7YqHmjp6"
      },
      "source": [
        ""
      ],
      "execution_count": null,
      "outputs": []
    },
    {
      "cell_type": "markdown",
      "metadata": {
        "id": "ll8NB2o2ij38"
      },
      "source": [
        "**Analysis session**"
      ]
    },
    {
      "cell_type": "code",
      "metadata": {
        "colab": {
          "base_uri": "https://localhost:8080/",
          "height": 493
        },
        "id": "iLvI7T-NitJ2",
        "outputId": "55064a8c-eb2e-4ea2-b973-42a113b82fc5"
      },
      "source": [
        "useraction_view = useraction_CF[useraction_CF['action'] == 'view']\n",
        "useraction_view.sort_values(by=['user_id', 'created_at'], inplace=True)\n",
        "useraction_view['created_at_shift'] = useraction_view.groupby('user_id')['created_at'].shift()\n",
        "useraction_view['diff_time'] = useraction_view['created_at'] - useraction_view['created_at_shift']\n",
        "useraction_view.head()"
      ],
      "execution_count": null,
      "outputs": [
        {
          "output_type": "stream",
          "name": "stderr",
          "text": [
            "/usr/local/lib/python3.7/dist-packages/ipykernel_launcher.py:2: SettingWithCopyWarning: \n",
            "A value is trying to be set on a copy of a slice from a DataFrame\n",
            "\n",
            "See the caveats in the documentation: https://pandas.pydata.org/pandas-docs/stable/user_guide/indexing.html#returning-a-view-versus-a-copy\n",
            "  \n",
            "/usr/local/lib/python3.7/dist-packages/ipykernel_launcher.py:3: SettingWithCopyWarning: \n",
            "A value is trying to be set on a copy of a slice from a DataFrame.\n",
            "Try using .loc[row_indexer,col_indexer] = value instead\n",
            "\n",
            "See the caveats in the documentation: https://pandas.pydata.org/pandas-docs/stable/user_guide/indexing.html#returning-a-view-versus-a-copy\n",
            "  This is separate from the ipykernel package so we can avoid doing imports until\n",
            "/usr/local/lib/python3.7/dist-packages/ipykernel_launcher.py:4: SettingWithCopyWarning: \n",
            "A value is trying to be set on a copy of a slice from a DataFrame.\n",
            "Try using .loc[row_indexer,col_indexer] = value instead\n",
            "\n",
            "See the caveats in the documentation: https://pandas.pydata.org/pandas-docs/stable/user_guide/indexing.html#returning-a-view-versus-a-copy\n",
            "  after removing the cwd from sys.path.\n"
          ]
        },
        {
          "output_type": "execute_result",
          "data": {
            "text/html": [
              "<div>\n",
              "<style scoped>\n",
              "    .dataframe tbody tr th:only-of-type {\n",
              "        vertical-align: middle;\n",
              "    }\n",
              "\n",
              "    .dataframe tbody tr th {\n",
              "        vertical-align: top;\n",
              "    }\n",
              "\n",
              "    .dataframe thead th {\n",
              "        text-align: right;\n",
              "    }\n",
              "</style>\n",
              "<table border=\"1\" class=\"dataframe\">\n",
              "  <thead>\n",
              "    <tr style=\"text-align: right;\">\n",
              "      <th></th>\n",
              "      <th>user_id</th>\n",
              "      <th>object_id</th>\n",
              "      <th>object</th>\n",
              "      <th>action</th>\n",
              "      <th>redirect_url</th>\n",
              "      <th>created_at</th>\n",
              "      <th>created_at_shift</th>\n",
              "      <th>diff_time</th>\n",
              "    </tr>\n",
              "  </thead>\n",
              "  <tbody>\n",
              "    <tr>\n",
              "      <th>10204</th>\n",
              "      <td>8</td>\n",
              "      <td>5800</td>\n",
              "      <td>post</td>\n",
              "      <td>view</td>\n",
              "      <td>https://spiderum.com/bai-dang/Dua-con-cua-than...</td>\n",
              "      <td>2017-04-21 10:42:24</td>\n",
              "      <td>NaT</td>\n",
              "      <td>NaT</td>\n",
              "    </tr>\n",
              "    <tr>\n",
              "      <th>10225</th>\n",
              "      <td>8</td>\n",
              "      <td>7371</td>\n",
              "      <td>post</td>\n",
              "      <td>view</td>\n",
              "      <td>https://spiderum.com/bai-dang/Cau-dinh-thi-tru...</td>\n",
              "      <td>2017-04-21 10:52:46</td>\n",
              "      <td>2017-04-21 10:42:24</td>\n",
              "      <td>0 days 00:10:22</td>\n",
              "    </tr>\n",
              "    <tr>\n",
              "      <th>10227</th>\n",
              "      <td>8</td>\n",
              "      <td>7527</td>\n",
              "      <td>post</td>\n",
              "      <td>view</td>\n",
              "      <td>https://spiderum.com/bai-dang/10-tran-chien-la...</td>\n",
              "      <td>2017-04-21 10:53:52</td>\n",
              "      <td>2017-04-21 10:52:46</td>\n",
              "      <td>0 days 00:01:06</td>\n",
              "    </tr>\n",
              "    <tr>\n",
              "      <th>10251</th>\n",
              "      <td>8</td>\n",
              "      <td>7371</td>\n",
              "      <td>post</td>\n",
              "      <td>view</td>\n",
              "      <td>https://spiderum.com/bai-dang/Cau-dinh-thi-tru...</td>\n",
              "      <td>2017-04-21 10:58:53</td>\n",
              "      <td>2017-04-21 10:53:52</td>\n",
              "      <td>0 days 00:05:01</td>\n",
              "    </tr>\n",
              "    <tr>\n",
              "      <th>10262</th>\n",
              "      <td>8</td>\n",
              "      <td>7306</td>\n",
              "      <td>post</td>\n",
              "      <td>view</td>\n",
              "      <td>https://spiderum.com/bai-dang/Nhung-cu-lua-lic...</td>\n",
              "      <td>2017-04-21 11:04:14</td>\n",
              "      <td>2017-04-21 10:58:53</td>\n",
              "      <td>0 days 00:05:21</td>\n",
              "    </tr>\n",
              "  </tbody>\n",
              "</table>\n",
              "</div>"
            ],
            "text/plain": [
              "       user_id  object_id  ...    created_at_shift       diff_time\n",
              "10204        8       5800  ...                 NaT             NaT\n",
              "10225        8       7371  ... 2017-04-21 10:42:24 0 days 00:10:22\n",
              "10227        8       7527  ... 2017-04-21 10:52:46 0 days 00:01:06\n",
              "10251        8       7371  ... 2017-04-21 10:53:52 0 days 00:05:01\n",
              "10262        8       7306  ... 2017-04-21 10:58:53 0 days 00:05:21\n",
              "\n",
              "[5 rows x 8 columns]"
            ]
          },
          "metadata": {},
          "execution_count": 7
        }
      ]
    },
    {
      "cell_type": "code",
      "metadata": {
        "colab": {
          "base_uri": "https://localhost:8080/",
          "height": 306
        },
        "id": "rN1RYxBs0rz9",
        "outputId": "b2d2f864-5ed4-470e-b5f2-8967fd585997"
      },
      "source": [
        "list_diff_time = list(useraction_view['diff_time'])\n",
        "list_sessions = [1]\n",
        "for i in range(1, len(list_diff_time)):\n",
        "    if pd.isna(list_diff_time[i]) or list_diff_time[i] > dt.timedelta(minutes=30):\n",
        "        list_sessions.append(list_sessions[-1] + 1)\n",
        "    else:\n",
        "        list_sessions.append(list_sessions[-1])\n",
        "useraction_view['session'] = list_sessions\n",
        "useraction_view.head()"
      ],
      "execution_count": null,
      "outputs": [
        {
          "output_type": "stream",
          "name": "stderr",
          "text": [
            "/usr/local/lib/python3.7/dist-packages/ipykernel_launcher.py:8: SettingWithCopyWarning: \n",
            "A value is trying to be set on a copy of a slice from a DataFrame.\n",
            "Try using .loc[row_indexer,col_indexer] = value instead\n",
            "\n",
            "See the caveats in the documentation: https://pandas.pydata.org/pandas-docs/stable/user_guide/indexing.html#returning-a-view-versus-a-copy\n",
            "  \n"
          ]
        },
        {
          "output_type": "execute_result",
          "data": {
            "text/html": [
              "<div>\n",
              "<style scoped>\n",
              "    .dataframe tbody tr th:only-of-type {\n",
              "        vertical-align: middle;\n",
              "    }\n",
              "\n",
              "    .dataframe tbody tr th {\n",
              "        vertical-align: top;\n",
              "    }\n",
              "\n",
              "    .dataframe thead th {\n",
              "        text-align: right;\n",
              "    }\n",
              "</style>\n",
              "<table border=\"1\" class=\"dataframe\">\n",
              "  <thead>\n",
              "    <tr style=\"text-align: right;\">\n",
              "      <th></th>\n",
              "      <th>user_id</th>\n",
              "      <th>object_id</th>\n",
              "      <th>object</th>\n",
              "      <th>action</th>\n",
              "      <th>redirect_url</th>\n",
              "      <th>created_at</th>\n",
              "      <th>created_at_shift</th>\n",
              "      <th>diff_time</th>\n",
              "      <th>session</th>\n",
              "    </tr>\n",
              "  </thead>\n",
              "  <tbody>\n",
              "    <tr>\n",
              "      <th>10204</th>\n",
              "      <td>8</td>\n",
              "      <td>5800</td>\n",
              "      <td>post</td>\n",
              "      <td>view</td>\n",
              "      <td>https://spiderum.com/bai-dang/Dua-con-cua-than...</td>\n",
              "      <td>2017-04-21 10:42:24</td>\n",
              "      <td>NaT</td>\n",
              "      <td>NaT</td>\n",
              "      <td>1</td>\n",
              "    </tr>\n",
              "    <tr>\n",
              "      <th>10225</th>\n",
              "      <td>8</td>\n",
              "      <td>7371</td>\n",
              "      <td>post</td>\n",
              "      <td>view</td>\n",
              "      <td>https://spiderum.com/bai-dang/Cau-dinh-thi-tru...</td>\n",
              "      <td>2017-04-21 10:52:46</td>\n",
              "      <td>2017-04-21 10:42:24</td>\n",
              "      <td>0 days 00:10:22</td>\n",
              "      <td>1</td>\n",
              "    </tr>\n",
              "    <tr>\n",
              "      <th>10227</th>\n",
              "      <td>8</td>\n",
              "      <td>7527</td>\n",
              "      <td>post</td>\n",
              "      <td>view</td>\n",
              "      <td>https://spiderum.com/bai-dang/10-tran-chien-la...</td>\n",
              "      <td>2017-04-21 10:53:52</td>\n",
              "      <td>2017-04-21 10:52:46</td>\n",
              "      <td>0 days 00:01:06</td>\n",
              "      <td>1</td>\n",
              "    </tr>\n",
              "    <tr>\n",
              "      <th>10251</th>\n",
              "      <td>8</td>\n",
              "      <td>7371</td>\n",
              "      <td>post</td>\n",
              "      <td>view</td>\n",
              "      <td>https://spiderum.com/bai-dang/Cau-dinh-thi-tru...</td>\n",
              "      <td>2017-04-21 10:58:53</td>\n",
              "      <td>2017-04-21 10:53:52</td>\n",
              "      <td>0 days 00:05:01</td>\n",
              "      <td>1</td>\n",
              "    </tr>\n",
              "    <tr>\n",
              "      <th>10262</th>\n",
              "      <td>8</td>\n",
              "      <td>7306</td>\n",
              "      <td>post</td>\n",
              "      <td>view</td>\n",
              "      <td>https://spiderum.com/bai-dang/Nhung-cu-lua-lic...</td>\n",
              "      <td>2017-04-21 11:04:14</td>\n",
              "      <td>2017-04-21 10:58:53</td>\n",
              "      <td>0 days 00:05:21</td>\n",
              "      <td>1</td>\n",
              "    </tr>\n",
              "  </tbody>\n",
              "</table>\n",
              "</div>"
            ],
            "text/plain": [
              "       user_id  object_id object  ...    created_at_shift       diff_time session\n",
              "10204        8       5800   post  ...                 NaT             NaT       1\n",
              "10225        8       7371   post  ... 2017-04-21 10:42:24 0 days 00:10:22       1\n",
              "10227        8       7527   post  ... 2017-04-21 10:52:46 0 days 00:01:06       1\n",
              "10251        8       7371   post  ... 2017-04-21 10:53:52 0 days 00:05:01       1\n",
              "10262        8       7306   post  ... 2017-04-21 10:58:53 0 days 00:05:21       1\n",
              "\n",
              "[5 rows x 9 columns]"
            ]
          },
          "metadata": {},
          "execution_count": 8
        }
      ]
    },
    {
      "cell_type": "code",
      "metadata": {
        "colab": {
          "base_uri": "https://localhost:8080/",
          "height": 359
        },
        "id": "KICD-QUNmQc7",
        "outputId": "08025bc9-7c2c-42a9-d0c6-08a0035f5712"
      },
      "source": [
        "pd.DataFrame(data={'Cách làm đúng': useraction_view.groupby('session')['redirect_url'].count().value_counts(),\n",
        "                   'Cách làm sai': useraction_view.groupby('session')['redirect_url'].nunique().value_counts()}).head(10)"
      ],
      "execution_count": null,
      "outputs": [
        {
          "output_type": "execute_result",
          "data": {
            "text/html": [
              "<div>\n",
              "<style scoped>\n",
              "    .dataframe tbody tr th:only-of-type {\n",
              "        vertical-align: middle;\n",
              "    }\n",
              "\n",
              "    .dataframe tbody tr th {\n",
              "        vertical-align: top;\n",
              "    }\n",
              "\n",
              "    .dataframe thead th {\n",
              "        text-align: right;\n",
              "    }\n",
              "</style>\n",
              "<table border=\"1\" class=\"dataframe\">\n",
              "  <thead>\n",
              "    <tr style=\"text-align: right;\">\n",
              "      <th></th>\n",
              "      <th>Cách làm đúng</th>\n",
              "      <th>Cách làm sai</th>\n",
              "    </tr>\n",
              "  </thead>\n",
              "  <tbody>\n",
              "    <tr>\n",
              "      <th>1</th>\n",
              "      <td>620098.0</td>\n",
              "      <td>692736.0</td>\n",
              "    </tr>\n",
              "    <tr>\n",
              "      <th>2</th>\n",
              "      <td>267459.0</td>\n",
              "      <td>276084.0</td>\n",
              "    </tr>\n",
              "    <tr>\n",
              "      <th>3</th>\n",
              "      <td>151067.0</td>\n",
              "      <td>141949.0</td>\n",
              "    </tr>\n",
              "    <tr>\n",
              "      <th>4</th>\n",
              "      <td>92419.0</td>\n",
              "      <td>81113.0</td>\n",
              "    </tr>\n",
              "    <tr>\n",
              "      <th>5</th>\n",
              "      <td>59785.0</td>\n",
              "      <td>49415.0</td>\n",
              "    </tr>\n",
              "    <tr>\n",
              "      <th>6</th>\n",
              "      <td>40548.0</td>\n",
              "      <td>31972.0</td>\n",
              "    </tr>\n",
              "    <tr>\n",
              "      <th>7</th>\n",
              "      <td>27990.0</td>\n",
              "      <td>21062.0</td>\n",
              "    </tr>\n",
              "    <tr>\n",
              "      <th>8</th>\n",
              "      <td>20368.0</td>\n",
              "      <td>14537.0</td>\n",
              "    </tr>\n",
              "    <tr>\n",
              "      <th>9</th>\n",
              "      <td>14929.0</td>\n",
              "      <td>10485.0</td>\n",
              "    </tr>\n",
              "    <tr>\n",
              "      <th>10</th>\n",
              "      <td>11253.0</td>\n",
              "      <td>7503.0</td>\n",
              "    </tr>\n",
              "  </tbody>\n",
              "</table>\n",
              "</div>"
            ],
            "text/plain": [
              "    Cách làm đúng  Cách làm sai\n",
              "1           620098.0        692736.0\n",
              "2           267459.0        276084.0\n",
              "3           151067.0        141949.0\n",
              "4            92419.0         81113.0\n",
              "5            59785.0         49415.0\n",
              "6            40548.0         31972.0\n",
              "7            27990.0         21062.0\n",
              "8            20368.0         14537.0\n",
              "9            14929.0         10485.0\n",
              "10           11253.0          7503.0"
            ]
          },
          "metadata": {},
          "execution_count": 17
        }
      ]
    },
    {
      "cell_type": "code",
      "metadata": {
        "colab": {
          "base_uri": "https://localhost:8080/"
        },
        "id": "iB_hFTfw15Gu",
        "outputId": "54ae0e96-42f6-4c79-fb35-979a2d61f067"
      },
      "source": [
        "session_stat = useraction_view.groupby('session')['redirect_url'].count().value_counts()\n",
        "session_stat"
      ],
      "execution_count": null,
      "outputs": [
        {
          "output_type": "execute_result",
          "data": {
            "text/plain": [
              "1      620098\n",
              "2      267459\n",
              "3      151067\n",
              "4       92419\n",
              "5       59785\n",
              "        ...  \n",
              "211         1\n",
              "209         1\n",
              "208         1\n",
              "203         1\n",
              "991         1\n",
              "Name: redirect_url, Length: 261, dtype: int64"
            ]
          },
          "metadata": {},
          "execution_count": 9
        }
      ]
    },
    {
      "cell_type": "code",
      "metadata": {
        "colab": {
          "base_uri": "https://localhost:8080/",
          "height": 298
        },
        "id": "Zhl8XBT5irQ3",
        "outputId": "45a530e2-ea73-4c36-cbae-38f41f96964f"
      },
      "source": [
        "import matplotlib.pyplot as plt\n",
        "\n",
        "session_stat[:20].plot.bar()\n",
        "plt.xticks(rotation=0)\n",
        "plt.title(\"Histogram of sessions' number of posts\")"
      ],
      "execution_count": null,
      "outputs": [
        {
          "output_type": "execute_result",
          "data": {
            "text/plain": [
              "Text(0.5, 1.0, \"Histogram of sessions' number of posts\")"
            ]
          },
          "metadata": {},
          "execution_count": 10
        },
        {
          "output_type": "display_data",
          "data": {
            "image/png": "[encoded data removed]",
            "text/plain": [
              "<Figure size 432x288 with 1 Axes>"
            ]
          },
          "metadata": {
            "needs_background": "light"
          }
        }
      ]
    },
    {
      "cell_type": "code",
      "metadata": {
        "colab": {
          "base_uri": "https://localhost:8080/"
        },
        "id": "NqW_IwSKlFxu",
        "outputId": "7eaa4f00-1122-4c46-d3f8-1ec893314a9a"
      },
      "source": [
        "session_stat.sum()"
      ],
      "execution_count": null,
      "outputs": [
        {
          "output_type": "execute_result",
          "data": {
            "text/plain": [
              "1353579"
            ]
          },
          "metadata": {},
          "execution_count": 11
        }
      ]
    }
  ]
}