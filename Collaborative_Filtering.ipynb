{
  "nbformat": 4,
  "nbformat_minor": 0,
  "metadata": {
    "colab": {
      "name": "Collaborative Filtering.ipynb",
      "provenance": [],
      "collapsed_sections": []
    },
    "kernelspec": {
      "display_name": "Python 3",
      "name": "python3"
    },
    "language_info": {
      "name": "python"
    }
  },
  "cells": [
    {
      "cell_type": "code",
      "metadata": {
        "colab": {
          "base_uri": "https://localhost:8080/"
        },
        "id": "p25Ko413Nltt",
        "outputId": "4a07bae2-2f2b-4692-ed74-cdb96f7cccee"
      },
      "source": [
        "!pip install scikit-surprise"
      ],
      "execution_count": null,
      "outputs": [
        {
          "output_type": "stream",
          "name": "stdout",
          "text": [
            "Collecting scikit-surprise\n",
            "  Downloading scikit-surprise-1.1.1.tar.gz (11.8 MB)\n",
            "\u001b[K     |████████████████████████████████| 11.8 MB 53 kB/s \n",
            "\u001b[?25hRequirement already satisfied: joblib>=0.11 in /usr/local/lib/python3.7/dist-packages (from scikit-surprise) (1.0.1)\n",
            "Requirement already satisfied: numpy>=1.11.2 in /usr/local/lib/python3.7/dist-packages (from scikit-surprise) (1.19.5)\n",
            "Requirement already satisfied: scipy>=1.0.0 in /usr/local/lib/python3.7/dist-packages (from scikit-surprise) (1.4.1)\n",
            "Requirement already satisfied: six>=1.10.0 in /usr/local/lib/python3.7/dist-packages (from scikit-surprise) (1.15.0)\n",
            "Building wheels for collected packages: scikit-surprise\n",
            "  Building wheel for scikit-surprise (setup.py) ... \u001b[?25l\u001b[?25hdone\n",
            "  Created wheel for scikit-surprise: filename=scikit_surprise-1.1.1-cp37-cp37m-linux_x86_64.whl size=1619421 sha256=0e05a69847eaf1376e634b1a7614133f2d7f7b9eff9506f1cd5c3fe7cad4b55a\n",
            "  Stored in directory: /root/.cache/pip/wheels/76/44/74/b498c42be47b2406bd27994e16c5188e337c657025ab400c1c\n",
            "Successfully built scikit-surprise\n",
            "Installing collected packages: scikit-surprise\n",
            "Successfully installed scikit-surprise-1.1.1\n"
          ]
        }
      ]
    },
    {
      "cell_type": "code",
      "metadata": {
        "id": "xl6UfTsH8dnb"
      },
      "source": [
        "# surprise library\n",
        "from surprise import Dataset, Reader\n",
        "\n",
        "from surprise import SVD, SVDpp, NMF\n",
        "from surprise.model_selection import \\\n",
        "    train_test_split, GridSearchCV, cross_validate, PredefinedKFold\n",
        "\n",
        "from surprise import accuracy\n",
        "from surprise.model_selection import KFold\n",
        "from surprise.prediction_algorithms.knns import KNNWithMeans\n",
        "\n",
        "from surprise import SlopeOne, CoClustering\n",
        "\n",
        "from surprise import dump\n",
        "\n",
        "import pandas as pd\n",
        "import numpy as np\n",
        "import random\n",
        "import seaborn as sns\n",
        "import matplotlib.pyplot as plt\n",
        "from sklearn.model_selection import KFold"
      ],
      "execution_count": null,
      "outputs": []
    },
    {
      "cell_type": "code",
      "metadata": {
        "colab": {
          "base_uri": "https://localhost:8080/"
        },
        "id": "OGVOaaFX8mIB",
        "outputId": "42851fe5-6478-4445-8723-8ce51a1d48e6"
      },
      "source": [
        "from google.colab import drive\n",
        "drive.mount('/content/drive')"
      ],
      "execution_count": null,
      "outputs": [
        {
          "output_type": "stream",
          "name": "stdout",
          "text": [
            "Mounted at /content/drive\n"
          ]
        }
      ]
    },
    {
      "cell_type": "code",
      "metadata": {
        "colab": {
          "base_uri": "https://localhost:8080/"
        },
        "id": "8oUzEC_k8oLX",
        "outputId": "1eeba565-9eb8-4cc9-acab-513704c46d6f"
      },
      "source": [
        "cd /content/drive/MyDrive/Spiderum/Data"
      ],
      "execution_count": null,
      "outputs": [
        {
          "output_type": "stream",
          "name": "stdout",
          "text": [
            "/content/drive/MyDrive/Spiderum/Data\n"
          ]
        }
      ]
    },
    {
      "cell_type": "code",
      "metadata": {
        "colab": {
          "base_uri": "https://localhost:8080/",
          "height": 204
        },
        "id": "JDTTOK7s8u_e",
        "outputId": "069a4079-8f19-4af1-e947-68a0e171424c"
      },
      "source": [
        "data = pd.read_csv('./Data for CF/cleaned_data.csv')\n",
        "data.head()"
      ],
      "execution_count": null,
      "outputs": [
        {
          "output_type": "execute_result",
          "data": {
            "text/html": [
              "<div>\n",
              "<style scoped>\n",
              "    .dataframe tbody tr th:only-of-type {\n",
              "        vertical-align: middle;\n",
              "    }\n",
              "\n",
              "    .dataframe tbody tr th {\n",
              "        vertical-align: top;\n",
              "    }\n",
              "\n",
              "    .dataframe thead th {\n",
              "        text-align: right;\n",
              "    }\n",
              "</style>\n",
              "<table border=\"1\" class=\"dataframe\">\n",
              "  <thead>\n",
              "    <tr style=\"text-align: right;\">\n",
              "      <th></th>\n",
              "      <th>user_id</th>\n",
              "      <th>redirect_url</th>\n",
              "      <th>rating</th>\n",
              "      <th>created_at</th>\n",
              "    </tr>\n",
              "  </thead>\n",
              "  <tbody>\n",
              "    <tr>\n",
              "      <th>0</th>\n",
              "      <td>5</td>\n",
              "      <td>https://spiderum.com/bai-dang/CHINH-THUC-SPIDE...</td>\n",
              "      <td>1</td>\n",
              "      <td>2020-09-30 03:09:34</td>\n",
              "    </tr>\n",
              "    <tr>\n",
              "      <th>1</th>\n",
              "      <td>5</td>\n",
              "      <td>https://spiderum.com/bai-dang/Cung-Spiderum-hu...</td>\n",
              "      <td>1</td>\n",
              "      <td>2020-10-22 09:48:33</td>\n",
              "    </tr>\n",
              "    <tr>\n",
              "      <th>2</th>\n",
              "      <td>5</td>\n",
              "      <td>https://spiderum.com/bai-dang/Dau-tu-vao-nhan-...</td>\n",
              "      <td>1</td>\n",
              "      <td>2020-02-13 07:48:36</td>\n",
              "    </tr>\n",
              "    <tr>\n",
              "      <th>3</th>\n",
              "      <td>5</td>\n",
              "      <td>https://spiderum.com/bai-dang/NGUYEN-PHUONG-DU...</td>\n",
              "      <td>1</td>\n",
              "      <td>2021-03-08 06:29:42</td>\n",
              "    </tr>\n",
              "    <tr>\n",
              "      <th>4</th>\n",
              "      <td>5</td>\n",
              "      <td>https://spiderum.com/bai-dang/Nguoi-tre-noi-gi...</td>\n",
              "      <td>1</td>\n",
              "      <td>2020-08-19 06:23:04</td>\n",
              "    </tr>\n",
              "  </tbody>\n",
              "</table>\n",
              "</div>"
            ],
            "text/plain": [
              "   user_id  ...           created_at\n",
              "0        5  ...  2020-09-30 03:09:34\n",
              "1        5  ...  2020-10-22 09:48:33\n",
              "2        5  ...  2020-02-13 07:48:36\n",
              "3        5  ...  2021-03-08 06:29:42\n",
              "4        5  ...  2020-08-19 06:23:04\n",
              "\n",
              "[5 rows x 4 columns]"
            ]
          },
          "metadata": {},
          "execution_count": 6
        }
      ]
    },
    {
      "cell_type": "code",
      "metadata": {
        "colab": {
          "base_uri": "https://localhost:8080/",
          "height": 204
        },
        "id": "8k6ZqmBhWXXX",
        "outputId": "581919b7-c632-4e55-d9d4-89c1b43cec4a"
      },
      "source": [
        "interact_df = pd.read_csv('./Data for CF/interact_CF.csv')\n",
        "interact_df.head()"
      ],
      "execution_count": null,
      "outputs": [
        {
          "output_type": "execute_result",
          "data": {
            "text/html": [
              "<div>\n",
              "<style scoped>\n",
              "    .dataframe tbody tr th:only-of-type {\n",
              "        vertical-align: middle;\n",
              "    }\n",
              "\n",
              "    .dataframe tbody tr th {\n",
              "        vertical-align: top;\n",
              "    }\n",
              "\n",
              "    .dataframe thead th {\n",
              "        text-align: right;\n",
              "    }\n",
              "</style>\n",
              "<table border=\"1\" class=\"dataframe\">\n",
              "  <thead>\n",
              "    <tr style=\"text-align: right;\">\n",
              "      <th></th>\n",
              "      <th>user_id</th>\n",
              "      <th>redirect_url</th>\n",
              "      <th>created_at</th>\n",
              "    </tr>\n",
              "  </thead>\n",
              "  <tbody>\n",
              "    <tr>\n",
              "      <th>0</th>\n",
              "      <td>5</td>\n",
              "      <td>https://spiderum.com/bai-dang/Toi-chi-muon-con...</td>\n",
              "      <td>2019-08-09 07:00:21</td>\n",
              "    </tr>\n",
              "    <tr>\n",
              "      <th>1</th>\n",
              "      <td>5</td>\n",
              "      <td>https://spiderum.com/bai-dang/Dau-tu-vao-nhan-...</td>\n",
              "      <td>2020-02-13 07:48:36</td>\n",
              "    </tr>\n",
              "    <tr>\n",
              "      <th>2</th>\n",
              "      <td>5</td>\n",
              "      <td>https://spiderum.com/bai-dang/Talkshow-ra-mat-...</td>\n",
              "      <td>2020-07-22 04:50:12</td>\n",
              "    </tr>\n",
              "    <tr>\n",
              "      <th>3</th>\n",
              "      <td>5</td>\n",
              "      <td>https://spiderum.com/bai-dang/Nguoi-tre-noi-gi...</td>\n",
              "      <td>2020-08-19 06:23:04</td>\n",
              "    </tr>\n",
              "    <tr>\n",
              "      <th>4</th>\n",
              "      <td>5</td>\n",
              "      <td>https://spiderum.com/bai-dang/CHINH-THUC-SPIDE...</td>\n",
              "      <td>2020-09-30 03:09:34</td>\n",
              "    </tr>\n",
              "  </tbody>\n",
              "</table>\n",
              "</div>"
            ],
            "text/plain": [
              "   user_id  ...           created_at\n",
              "0        5  ...  2019-08-09 07:00:21\n",
              "1        5  ...  2020-02-13 07:48:36\n",
              "2        5  ...  2020-07-22 04:50:12\n",
              "3        5  ...  2020-08-19 06:23:04\n",
              "4        5  ...  2020-09-30 03:09:34\n",
              "\n",
              "[5 rows x 3 columns]"
            ]
          },
          "metadata": {},
          "execution_count": 7
        }
      ]
    },
    {
      "cell_type": "code",
      "metadata": {
        "colab": {
          "base_uri": "https://localhost:8080/",
          "height": 258
        },
        "id": "N3_1fEYPHcCk",
        "outputId": "fb1c9ad9-977c-4392-bdd6-a75b10b2aa89"
      },
      "source": [
        "posts = pd.read_csv('./posts.csv')\n",
        "posts['redirect_url'] = 'https://spiderum.com/bai-dang/' + posts['slug']\n",
        "posts = posts[['redirect_url', 'point']]\n",
        "posts.head()"
      ],
      "execution_count": null,
      "outputs": [
        {
          "output_type": "stream",
          "name": "stderr",
          "text": [
            "/usr/local/lib/python3.7/dist-packages/IPython/core/interactiveshell.py:2718: DtypeWarning: Columns (17,19,26,28,30,32) have mixed types.Specify dtype option on import or set low_memory=False.\n",
            "  interactivity=interactivity, compiler=compiler, result=result)\n"
          ]
        },
        {
          "output_type": "execute_result",
          "data": {
            "text/html": [
              "<div>\n",
              "<style scoped>\n",
              "    .dataframe tbody tr th:only-of-type {\n",
              "        vertical-align: middle;\n",
              "    }\n",
              "\n",
              "    .dataframe tbody tr th {\n",
              "        vertical-align: top;\n",
              "    }\n",
              "\n",
              "    .dataframe thead th {\n",
              "        text-align: right;\n",
              "    }\n",
              "</style>\n",
              "<table border=\"1\" class=\"dataframe\">\n",
              "  <thead>\n",
              "    <tr style=\"text-align: right;\">\n",
              "      <th></th>\n",
              "      <th>redirect_url</th>\n",
              "      <th>point</th>\n",
              "    </tr>\n",
              "  </thead>\n",
              "  <tbody>\n",
              "    <tr>\n",
              "      <th>0</th>\n",
              "      <td>https://spiderum.com/bai-dang/Chao-mung-toi-sp...</td>\n",
              "      <td>25</td>\n",
              "    </tr>\n",
              "    <tr>\n",
              "      <th>1</th>\n",
              "      <td>https://spiderum.com/bai-dang/Chuyen-tinh-dam-...</td>\n",
              "      <td>17</td>\n",
              "    </tr>\n",
              "    <tr>\n",
              "      <th>2</th>\n",
              "      <td>https://spiderum.com/bai-dang/Tinh-nguoi-3</td>\n",
              "      <td>129</td>\n",
              "    </tr>\n",
              "    <tr>\n",
              "      <th>3</th>\n",
              "      <td>https://spiderum.com/bai-dang/Danh-cho-nhung-b...</td>\n",
              "      <td>24</td>\n",
              "    </tr>\n",
              "    <tr>\n",
              "      <th>4</th>\n",
              "      <td>https://spiderum.com/bai-dang/Nghe-thuat-dam-p...</td>\n",
              "      <td>23</td>\n",
              "    </tr>\n",
              "  </tbody>\n",
              "</table>\n",
              "</div>"
            ],
            "text/plain": [
              "                                        redirect_url  point\n",
              "0  https://spiderum.com/bai-dang/Chao-mung-toi-sp...     25\n",
              "1  https://spiderum.com/bai-dang/Chuyen-tinh-dam-...     17\n",
              "2         https://spiderum.com/bai-dang/Tinh-nguoi-3    129\n",
              "3  https://spiderum.com/bai-dang/Danh-cho-nhung-b...     24\n",
              "4  https://spiderum.com/bai-dang/Nghe-thuat-dam-p...     23"
            ]
          },
          "metadata": {},
          "execution_count": 8
        }
      ]
    },
    {
      "cell_type": "code",
      "metadata": {
        "id": "OGE00tLyH5Et"
      },
      "source": [
        "# Add points column to interact_df\n",
        "interact_df = interact_df.merge(posts[['redirect_url', 'point']], how='inner', left_on='redirect_url', right_on='redirect_url')"
      ],
      "execution_count": null,
      "outputs": []
    },
    {
      "cell_type": "code",
      "metadata": {
        "colab": {
          "base_uri": "https://localhost:8080/"
        },
        "id": "AMYjW6c_3oUW",
        "outputId": "70ca4819-70d1-4869-f00e-b85cac658f28"
      },
      "source": [
        "data['rating'].value_counts()"
      ],
      "execution_count": null,
      "outputs": [
        {
          "output_type": "execute_result",
          "data": {
            "text/plain": [
              " 1    609134\n",
              " 2    109313\n",
              "-1     19519\n",
              " 3      6768\n",
              "Name: rating, dtype: int64"
            ]
          },
          "metadata": {},
          "execution_count": 10
        }
      ]
    },
    {
      "cell_type": "code",
      "metadata": {
        "colab": {
          "base_uri": "https://localhost:8080/",
          "height": 282
        },
        "id": "LlXPDfLf4k6Q",
        "outputId": "e5860d7c-9a3c-4458-fc81-78bb5572ff0a"
      },
      "source": [
        "data.groupby('user_id').count().reset_index()['rating'].plot.hist(range=(0, 200), bins=20)"
      ],
      "execution_count": null,
      "outputs": [
        {
          "output_type": "execute_result",
          "data": {
            "text/plain": [
              "<matplotlib.axes._subplots.AxesSubplot at 0x7f8451f9bd10>"
            ]
          },
          "metadata": {},
          "execution_count": 12
        },
        {
          "output_type": "display_data",
          "data": {
            "image/png": "[encoded data removed]",
            "text/plain": [
              "<Figure size 432x288 with 1 Axes>"
            ]
          },
          "metadata": {
            "needs_background": "light"
          }
        }
      ]
    },
    {
      "cell_type": "markdown",
      "metadata": {
        "id": "dkqFxTe3NT61"
      },
      "source": [
        "# Build model SVD (Matrix Factorization)"
      ]
    },
    {
      "cell_type": "code",
      "metadata": {
        "id": "cuLlLzrJ-CBb"
      },
      "source": [
        "import collections\n",
        "import random\n",
        "\n",
        "class CF(object):\n",
        "    def __init__(self, data, interact_df):\n",
        "        self.data = data\n",
        "        self.model = None\n",
        "        self.trainset = None\n",
        "        self.testset = None\n",
        "        self.final_testset = None\n",
        "        self.trainset_prepared = None\n",
        "        self.testset_prepared = None\n",
        "        self.final_testset_prepared = None\n",
        "        self.testset_dict_for_eval = None\n",
        "        self.interact_df = interact_df\n",
        "    \n",
        "    def create_final_testset(self):\n",
        "        # Shorten testset\n",
        "        self.testset = self.testset[self.testset['user_id'].isin(self.trainset['user_id'])]\n",
        "        self.testset = self.testset[self.testset['redirect_url'].isin(self.trainset['redirect_url'])]\n",
        "        self.testset = self.testset[self.testset['rating'] >= 1]\n",
        "\n",
        "        # Shorten interact_df\n",
        "        self.interact_df = self.interact_df[self.interact_df['user_id'].isin(self.testset['user_id'])]\n",
        "        self.interact_df = self.interact_df[self.interact_df['redirect_url'].isin(self.trainset['redirect_url'])]\n",
        "\n",
        "        # Create testset_dict_for_eval\n",
        "        self.testset_dict_for_eval = self.testset[['user_id', 'redirect_url']] \\\n",
        "                                    .groupby('user_id').agg({'redirect_url': lambda x: tuple(x)}).to_dict()['redirect_url']\n",
        "\n",
        "        # Create final testset\n",
        "        self.interact_df['code'] = self.interact_df['user_id'].astype(str) + self.interact_df['redirect_url']\n",
        "        self.trainset['code'] = self.trainset['user_id'].astype(str) + self.trainset['redirect_url']\n",
        "        self.final_testset = self.interact_df[~self.interact_df['code'].isin(self.trainset['code'])][['user_id', 'redirect_url']]\n",
        "        self.final_testset['rating'] = 0\n",
        "        self.final_testset_prepared = Dataset.load_from_df(self.final_testset, Reader()).build_full_trainset().build_testset()\n",
        "\n",
        "    def train_model(self, lr_all, n_epochs, n_factors, reg_all, biased=False):\n",
        "        self.model = SVD(lr_all=lr_all, n_epochs=n_epochs, n_factors=n_factors, reg_all=reg_all)\n",
        "        self.model.fit(self.trainset_prepared)\n",
        "    \n",
        "    def calculate_acc(self):\n",
        "        # Training acc\n",
        "        predictions = self.model.test(self.trainset.build_testset())\n",
        "        error = accuracy.rmse(predictions, verbose = False)\n",
        "        print('Training acc: ')\n",
        "        print(error)\n",
        "        \n",
        "        # Testing acc\n",
        "        predictions_test = self.model.test(self.testset)\n",
        "        error = accuracy.rmse(predictions_test, verbose = False)\n",
        "        print('Testing acc: ')\n",
        "        print(error)\n",
        "    \n",
        "    def save_model(self, path):\n",
        "        dump.dump('./Data for CF/svd_model',algo=self.model)\n",
        "    \n",
        "    def load_model(self, path):\n",
        "        self.model = dump.load('./Data for CF/svd_model')[1]\n",
        "    \n",
        "    def calculate_map(self, k, method='normal'):\n",
        "        if method == 'popularity':\n",
        "            final_testset_popularity = self.interact_df[~self.interact_df['code'].isin(self.trainset['code'])]\n",
        "            top_n = collections.defaultdict(list)\n",
        "            for uid, iid, view_count in zip(final_testset_popularity['user_id'], final_testset_popularity['redirect_url'], final_testset_popularity['point']):\n",
        "                top_n[uid].append((iid, view_count))\n",
        "        else:\n",
        "            predictions = self.model.test(self.final_testset_prepared)\n",
        "            top_n = collections.defaultdict(list)\n",
        "            for uid, iid, true_r, est, _ in predictions:\n",
        "                top_n[uid].append((iid, est))\n",
        "\n",
        "        # Then sort the predictions for each user and retrieve the k highest ones.\n",
        "        for uid, ratings in top_n.items():\n",
        "            if method == 'normal':\n",
        "                #ratings = [x for x in ratings if x[1] > 1.01] # Filter rating > 1.05\n",
        "                ratings.sort(key=lambda x: x[1], reverse=True)\n",
        "            elif method == 'baseline':\n",
        "                random.shuffle(ratings)\n",
        "            top_n[uid] = ratings[:k][:len(self.testset_dict_for_eval[uid])]\n",
        "        \n",
        "        # Calculate map\n",
        "        ap_mat = np.full((self.trainset_prepared.n_users, k), np.nan)\n",
        "        for uid, ratings in top_n.items():\n",
        "            row_idx = self.trainset_prepared.to_inner_uid(uid)\n",
        "            n = 0\n",
        "            for i, (url, _) in enumerate(ratings):\n",
        "                if url in self.testset_dict_for_eval[uid]:\n",
        "                    n += 1\n",
        "                ap_mat[row_idx][i] = n/(i + 1)\n",
        "\n",
        "        map = np.nanmean(ap_mat, axis=0)\n",
        "        return map\n",
        "\n",
        "    def evaluate_model(self, lr_all, n_epochs, n_factors, reg_all, k, method='baseline'):\n",
        "        kfold = KFold(n_splits=10, shuffle=True, random_state=42)\n",
        "        map = 0\n",
        "        for idx_train, idx_test in kfold.split(self.data):\n",
        "            self.trainset = self.data.iloc[idx_train, :3]\n",
        "            self.testset = self.data.iloc[idx_test, :3]\n",
        "            self.trainset_prepared = Dataset.load_from_df(self.trainset, Reader()).build_full_trainset()\n",
        "            self.testset_prepared = Dataset.load_from_df(self.testset, Reader()).build_full_trainset().build_testset()\n",
        "            \n",
        "            self.create_final_testset()\n",
        "            self.train_model(lr_all, n_epochs, n_factors, reg_all, biased=False)\n",
        "            map_each_fold = self.calculate_map(k, method=method)\n",
        "            print(map_each_fold.mean())\n",
        "            map += map_each_fold/10\n",
        "\n",
        "        return map\n",
        "\n",
        "    def train_model_for_recommendation(self, lr_all, n_epochs, n_factors, reg_all):\n",
        "        self.trainset_prepared = Dataset.load_from_df(self.data.iloc[:, :3], Reader()).build_full_trainset()\n",
        "        self.model = SVD(lr_all=lr_all, n_epochs=n_epochs, n_factors=n_factors, reg_all=reg_all, biased=False)\n",
        "        self.model.fit(self.trainset_prepared)\n",
        "\n",
        "    def top_n_recommend(self, n):\n",
        "        list_user_ids = list(set(self.data['user_id']))\n",
        "        list_urls = list(set(self.data['redirect_url']))\n",
        "        top_n = collections.defaultdict(list)\n",
        "\n",
        "        for user_id in random.choices(population=list_user_ids, k=1000): #sample 1000 users\n",
        "            print('{}: {}'.format(user_id, len(self.data[self.data['user_id'] == user_id])))\n",
        "            not_interact_urls = list(set(list_urls) - set(self.interact_df[self.interact_df['user_id'] == user_id]['redirect_url']))\n",
        "            not_interact_df = pd.DataFrame({'user_id': [user_id for _ in range(len(not_interact_urls))],\n",
        "                                            'redirect_url': not_interact_urls,\n",
        "                                            'rating': [0 for _ in range(len(not_interact_urls))]})\n",
        "            not_interact_df_prepared = Dataset.load_from_df(not_interact_df, Reader()).build_full_trainset().build_testset()\n",
        "            predictions = self.model.test(not_interact_df_prepared)\n",
        "            \n",
        "            for uid, iid, true_r, est, _ in predictions:\n",
        "                top_n[uid].append((iid, est))\n",
        "            top_n[uid] = sorted(top_n[uid], key=lambda x: x[1], reverse=True)[:n]\n",
        "\n",
        "        return top_n\n"
      ],
      "execution_count": null,
      "outputs": []
    },
    {
      "cell_type": "code",
      "metadata": {
        "id": "ljLj5RSZI70v"
      },
      "source": [
        "a = CF(data, interact_df)"
      ],
      "execution_count": null,
      "outputs": []
    },
    {
      "cell_type": "code",
      "metadata": {
        "id": "o6tj9bQ4q1lP",
        "colab": {
          "base_uri": "https://localhost:8080/"
        },
        "outputId": "d00aecbc-7ae5-4ddd-8df6-20b84164472f"
      },
      "source": [
        "map_random = a.evaluate_model(lr_all=0.005, n_epochs=50, n_factors=100, reg_all=0.01, k=20, method='normal')"
      ],
      "execution_count": null,
      "outputs": [
        {
          "output_type": "stream",
          "name": "stdout",
          "text": [
            "0.08076243277767398\n",
            "0.08292695303341542\n",
            "0.08525232728262304\n",
            "0.08024841726642781\n",
            "0.07958596803182824\n",
            "0.07970165552257195\n",
            "0.08239909616732925\n",
            "0.07977404109702987\n",
            "0.07997891803348638\n",
            "0.0817711791628929\n"
          ]
        }
      ]
    },
    {
      "cell_type": "code",
      "metadata": {
        "id": "OQTMK8pRI325",
        "colab": {
          "base_uri": "https://localhost:8080/",
          "height": 312
        },
        "outputId": "61d5d5e8-9cd8-490a-98c0-865bc239ee5f"
      },
      "source": [
        "\n",
        "sns.lineplot(x = range(1, len(map_normal) + 1), y = map_normal, label='Model (0.122)', )\n",
        "sns.lineplot(x = range(1, len(map_baseline) + 1), y = map_baseline, label='Random (0.102)')\n",
        "sns.lineplot(x = range(1, len(map_popularity) + 1), y = map_popularity, label='Popularity (0.081)')\n",
        "plt.ylim(0.05, 0.18)\n",
        "plt.title('Model evaluation')\n",
        "plt.xlabel('K')\n",
        "plt.ylabel('MAP')"
      ],
      "execution_count": null,
      "outputs": [
        {
          "output_type": "execute_result",
          "data": {
            "text/plain": [
              "Text(0, 0.5, 'MAP')"
            ]
          },
          "metadata": {},
          "execution_count": 47
        },
        {
          "output_type": "display_data",
          "data": {
            "image/png": "[encoded data removed]",
            "text/plain": [
              "<Figure size 432x288 with 1 Axes>"
            ]
          },
          "metadata": {
            "needs_background": "light"
          }
        }
      ]
    },
    {
      "cell_type": "code",
      "metadata": {
        "colab": {
          "base_uri": "https://localhost:8080/"
        },
        "id": "P7vm24biSucJ",
        "outputId": "1caf99b5-4f8b-4aa0-d5e2-1c6990c8a163"
      },
      "source": [
        "map_normal.mean() "
      ],
      "execution_count": null,
      "outputs": [
        {
          "output_type": "execute_result",
          "data": {
            "text/plain": [
              "0.12243997577435199"
            ]
          },
          "metadata": {},
          "execution_count": 46
        }
      ]
    },
    {
      "cell_type": "code",
      "metadata": {
        "id": "ZQLh0q6Jfew7"
      },
      "source": [
        "a.train_model_for_recommendation(lr_all=0.005, n_epochs=50, n_factors=150, reg_all=0.01)"
      ],
      "execution_count": null,
      "outputs": []
    },
    {
      "cell_type": "code",
      "metadata": {
        "id": "qm-OB94wiiog"
      },
      "source": [
        "top_n_150 = a.top_n_recommend(n=10)"
      ],
      "execution_count": null,
      "outputs": []
    },
    {
      "cell_type": "code",
      "metadata": {
        "colab": {
          "base_uri": "https://localhost:8080/"
        },
        "id": "NubH2O1WWXE9",
        "outputId": "4e2007d0-f35d-4470-9f64-0768981745c4"
      },
      "source": [
        "top_n_150[57952]"
      ],
      "execution_count": null,
      "outputs": [
        {
          "output_type": "execute_result",
          "data": {
            "text/plain": [
              "[('https://spiderum.com/bai-dang/Viet-tieng-Viet-voi-he-chu-Tien-Tengwar-c24',\n",
              "  1.5248085498831163),\n",
              " ('https://spiderum.com/bai-dang/Di-Kem-Sieu-Tri-Tue-La-Sieu-San-Si-jn6',\n",
              "  1.5200508726260036),\n",
              " ('https://spiderum.com/bai-dang/Con-gai-thich-gi-va-Bai-hoc-meo-con-4wg',\n",
              "  1.447602505391316),\n",
              " ('https://spiderum.com/bai-dang/Thu-Nhap-Tren-10000-USDthang-Thi-Song-Nhu-The-Nao-lkw',\n",
              "  1.3728957772635006),\n",
              " ('https://spiderum.com/bai-dang/Tuoi-tho-va-qua-trinh-hinh-thanh-tinh-cach-con-nguoi-9e8',\n",
              "  1.3708870099983783),\n",
              " ('https://spiderum.com/bai-dang/Toi-la-mot-co-gai-xau-xi-qxr',\n",
              "  1.363208010659958),\n",
              " ('https://spiderum.com/bai-dang/Co-kien-thuc-nao-la-vo-dung-hay-la-tu-duy-lac-hau-ve-giao-duc-5br',\n",
              "  1.362519674972932),\n",
              " ('https://spiderum.com/bai-dang/Ban-muon-co-con-ca-hay-ban-muon-biet-cau-ca-rvh',\n",
              "  1.3609694800293333),\n",
              " ('https://spiderum.com/bai-dang/Ban-ve-ta-dam-va-tantric-sexorSharing-Experienceor-Chuyen-thien-3-laq',\n",
              "  1.3600006384458019),\n",
              " ('https://spiderum.com/bai-dang/Em-gai-a-nho-phai-tim-cho-em-chang-trai-hai-huoc-96k',\n",
              "  1.3556071145089112)]"
            ]
          },
          "metadata": {},
          "execution_count": 40
        }
      ]
    },
    {
      "cell_type": "code",
      "metadata": {
        "colab": {
          "base_uri": "https://localhost:8080/",
          "height": 142
        },
        "id": "Duy4bnkbFxaT",
        "outputId": "a1adeb38-107c-4a14-b95a-aa243168c9fa"
      },
      "source": [
        "def stat_coverage(top_n):\n",
        "    list_items = [x[0] for x in [item for sublist in list(top_n.values()) for item in sublist] if x[1] > 1.01]\n",
        "    num_items = len(list_items)\n",
        "    num_unique_items = len(set(list_items))\n",
        "    max_num_recommend = collections.Counter(list_items).most_common()[0][1]\n",
        "    return [num_items, num_unique_items, max_num_recommend]\n",
        "\n",
        "df = pd.DataFrame(data = {'10 factors': stat_coverage(top_n_10),\n",
        "                          '25 factors': stat_coverage(top_n_25),\n",
        "                          '50 factors': stat_coverage(top_n_50),\n",
        "                          '100 factors': stat_coverage(top_n_100),\n",
        "                          '150 factors': stat_coverage(top_n_150)},\n",
        "                  index = ['Số lượt items được recommend', 'Số unique items được recommend', 'Số lần recommend cao nhất của 1 item'])\n",
        "\n",
        "df"
      ],
      "execution_count": null,
      "outputs": [
        {
          "output_type": "execute_result",
          "data": {
            "text/html": [
              "<div>\n",
              "<style scoped>\n",
              "    .dataframe tbody tr th:only-of-type {\n",
              "        vertical-align: middle;\n",
              "    }\n",
              "\n",
              "    .dataframe tbody tr th {\n",
              "        vertical-align: top;\n",
              "    }\n",
              "\n",
              "    .dataframe thead th {\n",
              "        text-align: right;\n",
              "    }\n",
              "</style>\n",
              "<table border=\"1\" class=\"dataframe\">\n",
              "  <thead>\n",
              "    <tr style=\"text-align: right;\">\n",
              "      <th></th>\n",
              "      <th>10 factors</th>\n",
              "      <th>25 factors</th>\n",
              "      <th>50 factors</th>\n",
              "      <th>100 factors</th>\n",
              "      <th>150 factors</th>\n",
              "    </tr>\n",
              "  </thead>\n",
              "  <tbody>\n",
              "    <tr>\n",
              "      <th>Số lượt items được recommend</th>\n",
              "      <td>3546</td>\n",
              "      <td>4102</td>\n",
              "      <td>4141</td>\n",
              "      <td>4050</td>\n",
              "      <td>4233</td>\n",
              "    </tr>\n",
              "    <tr>\n",
              "      <th>Số unique items được recommend</th>\n",
              "      <td>347</td>\n",
              "      <td>696</td>\n",
              "      <td>912</td>\n",
              "      <td>1207</td>\n",
              "      <td>1401</td>\n",
              "    </tr>\n",
              "    <tr>\n",
              "      <th>Số lần recommend cao nhất của 1 item</th>\n",
              "      <td>184</td>\n",
              "      <td>150</td>\n",
              "      <td>105</td>\n",
              "      <td>36</td>\n",
              "      <td>45</td>\n",
              "    </tr>\n",
              "  </tbody>\n",
              "</table>\n",
              "</div>"
            ],
            "text/plain": [
              "                                          10 factors  ...  150 factors\n",
              "Số lượt items được recommend                 3546  ...         4233\n",
              "Số unique items được recommend                 347  ...         1401\n",
              "Số lần recommend cao nhất của 1 item         184  ...           45\n",
              "\n",
              "[3 rows x 5 columns]"
            ]
          },
          "metadata": {},
          "execution_count": 36
        }
      ]
    },
    {
      "cell_type": "code",
      "metadata": {
        "colab": {
          "base_uri": "https://localhost:8080/"
        },
        "id": "E4zzwu_FjKJv",
        "outputId": "46d2bcac-4faa-47d5-b522-00f51830ff48"
      },
      "source": [
        "b = [item for sublist in list(top_n.values()) for item in sublist]\n",
        "c = [x[0] for x in b if x[1] > 1.01]\n",
        "import collections\n",
        "collections.Counter(c).most_common()"
      ],
      "execution_count": null,
      "outputs": [
        {
          "output_type": "execute_result",
          "data": {
            "text/plain": [
              "[('https://spiderum.com/bai-dang/Danh-gia-ve-chuyen-danh-gia-rbg', 19),\n",
              " ('https://spiderum.com/bai-dang/Con-cho-muc-ie9', 14),\n",
              " ('https://spiderum.com/bai-dang/Thu-Nhap-Tren-10000-USDthang-Thi-Song-Nhu-The-Nao-lkw',\n",
              "  13),\n",
              " ('https://spiderum.com/bai-dang/THE-OFFICE-US-DA-GIAI-QUYET-VAN-DE-REVIEW-CUA-TUI-NHU-THE-NAO-da5',\n",
              "  11),\n",
              " ('https://spiderum.com/bai-dang/FEMINISM-VA-BINH-DANG-GIOI-qb0', 10),\n",
              " ('https://spiderum.com/bai-dang/Tap-uong-va-tim-hieu-ve-ruou-Tay-hay-cocktail-deu-re-khong-y-ma-z27',\n",
              "  9),\n",
              " ('https://spiderum.com/bai-dang/Mau-son-cho-can-cua-Pham-Hien-9xx', 8),\n",
              " ('https://spiderum.com/bai-dang/COVID-19-Khi-ca-the-gioi-cung-mo-mam-Ki-1-nqh',\n",
              "  8),\n",
              " ('https://spiderum.com/bai-dang/Danh-cho-nhung-nguoi-muon-tro-nen-sang-tao-lxk',\n",
              "  7),\n",
              " ('https://spiderum.com/bai-dang/VI-SAO-CHUAN-MEN-THI-KHONG-XEM-PORN-VA-QUAY-TAY-q2g',\n",
              "  7),\n",
              " ('https://spiderum.com/bai-dang/Se-ra-sau-neu-cha-me-song-cho-ban-than-nhieu-hon-m3g',\n",
              "  7),\n",
              " ('https://spiderum.com/bai-dang/Toi-khong-thich-minh-duoc-khen-xinh-P2-10h5',\n",
              "  7),\n",
              " ('https://spiderum.com/bai-dang/Nhung-anh-chi-da-va-dang-hoc-Dai-hoc-xin-hay-lang-nghe-mot-vai-tran-tro-cua-em-Xin-hay-cho-em-mot-vai-loi-khuyen-hje',\n",
              "  6),\n",
              " ('https://spiderum.com/bai-dang/Im-a-Loser-clb', 6),\n",
              " ('https://spiderum.com/bai-dang/La-thu-khong-gui-toi-cau-r0k', 6),\n",
              " ('https://spiderum.com/bai-dang/Van-de-o-Viet-Nam-moi-nguoi-song-qua-cam-tinh-va-tu-duy-long-leo-87p',\n",
              "  5),\n",
              " ('https://spiderum.com/bai-dang/Toi-khong-thich-minh-dep-zf8', 5),\n",
              " ('https://spiderum.com/bai-dang/Con-di-di-o-ben-do-tot-thi-dung-ve-khi-nhung-nguoi-con-yeu-nuoc-khong-the-tro-ve-6cx',\n",
              "  4),\n",
              " ('https://spiderum.com/bai-dang/Tu-thien-len-dong-Bi-bich-cua-mot-xa-hoi-Philistine-v0n',\n",
              "  4),\n",
              " ('https://spiderum.com/bai-dang/MADE-IN-CHINA-CHAT-LUONG-TE-HAI-baq', 4),\n",
              " ('https://spiderum.com/bai-dang/Lam-the-nao-de-toi-uu-hoa-viec-phat-trien-ban-than-lva',\n",
              "  4),\n",
              " ('https://spiderum.com/bai-dang/Tuoi-tho-va-qua-trinh-hinh-thanh-tinh-cach-con-nguoi-9e8',\n",
              "  4),\n",
              " ('https://spiderum.com/bai-dang/Nhung-nguyen-tac-nao-trong-tai-chinh-ma-ban-co-the-ap-dung-du-khong-co-tien-lgf',\n",
              "  4),\n",
              " ('https://spiderum.com/bai-dang/Mot-vai-dong-cho-Lac-va-cho-toi-Ban-co-the-bo-qua-bai-nay-ccs',\n",
              "  3),\n",
              " ('https://spiderum.com/bai-dang/WoT-Fresher-Ao-tuong-cuong-vy-thieu-ky-nang-thieu-hop-tac-thieu-kha-nang-hoc-hoi-P1-rge',\n",
              "  3),\n",
              " ('https://spiderum.com/bai-dang/1-minh-lang-thang-gan-het-Ha-Giang-rij', 3),\n",
              " ('https://spiderum.com/bai-dang/Kha-nang-tap-trung-bi-mat-di-theo-thoi-gian-q21',\n",
              "  3),\n",
              " ('https://spiderum.com/bai-dang/Tuoi-tre-la-phai-9ug', 3),\n",
              " ('https://spiderum.com/bai-dang/Hay-song-vi-ban-than-minh-g4t', 3),\n",
              " ('https://spiderum.com/bai-dang/Review-sach-Quan-tri-nhan-su-dung-Su-may-man-khi-doc-duoc-cuon-sach-giup-ban-than-tim-lai-dam-me-voi-cong-viec-nhan-su-qiz',\n",
              "  3),\n",
              " ('https://spiderum.com/bai-dang/Ban-nghi-gi-ve-chinh-phu-Viet-Nam-bsd', 3),\n",
              " ('https://spiderum.com/bai-dang/Mot-so-bo-phim-ban-nen-xem-truoc-khi-khong-con-thoi-gian-nua-8g8',\n",
              "  3),\n",
              " ('https://spiderum.com/bai-dang/18-HOW-TO-EAT-A-PUSSY-LIKE-A-CHAMP-Nghe-thuat-dan-ca-sao-nhi-cwz',\n",
              "  3),\n",
              " ('https://spiderum.com/bai-dang/CAC-MAC-DA-NOI-GI-VE-BENH-TRAM-CAM-NGANH-CONG-NGHIEP-ANIME-VA-VIDEO-GAME-TRONG-BAN-THAO-KINH-TE-TRIET-HOC-1844-s7b',\n",
              "  3),\n",
              " ('https://spiderum.com/bai-dang/Facebook-Te-den-muc-nao-5pu', 3),\n",
              " ('https://spiderum.com/bai-dang/Minh-Dau-Tu-Gi-Cho-Ban-Than-Minh-z9f', 3),\n",
              " ('https://spiderum.com/bai-dang/Neu-muon-tu-duy-khong-toi-thi-dung-tu-duy-theo-tieng-Viet-gms',\n",
              "  3),\n",
              " ('https://spiderum.com/bai-dang/Nhung-nghich-ly-va-sai-lam-tai-chinh-ma-ai-cung-mac-mhr',\n",
              "  3),\n",
              " ('https://spiderum.com/bai-dang/Lam-the-nao-de-lay-vo-m3j', 3),\n",
              " ('https://spiderum.com/bai-dang/Tai-sao-khong-nen-doc-sach-self-help-6jw', 2),\n",
              " ('https://spiderum.com/bai-dang/Toi-khong-biet-cach-chia-se-cam-xuc-nua-b9i',\n",
              "  2),\n",
              " ('https://spiderum.com/bai-dang/GIAI-MA-BIEU-TUONG-TRONG-NHA-GIA-KIM-CUA-PAULO-COELHO-8qt',\n",
              "  2),\n",
              " ('https://spiderum.com/bai-dang/Ratatouille-va-vai-suy-nghi-ve-chuyen-tien-hoa-p1-j01',\n",
              "  2),\n",
              " ('https://spiderum.com/bai-dang/Co-tien-thi-noi-gi-cung-dung-oba', 2),\n",
              " ('https://spiderum.com/bai-dang/Dac-quyen-dot-nat-Khi-cai-dot-tro-thanh-vu-khi-cua-gioi-binh-dan-inz',\n",
              "  2),\n",
              " ('https://spiderum.com/bai-dang/Truong-Chuyen-lop-chon-Bay-cuu-Xin-loi-ban-vua-noi-gi-co-cz1',\n",
              "  2),\n",
              " ('https://spiderum.com/bai-dang/Minh-viet-gi-ve-chuyen-hoc-uqz', 2),\n",
              " ('https://spiderum.com/bai-dang/Xa-hoi-hinh-Chop-trong-Ao-tuong-Bac-Thang-Phan-1-10tt',\n",
              "  2),\n",
              " ('https://spiderum.com/bai-dang/Cross-field-skillset-la-gi-Ung-dung-no-tren-con-duong-tu-do-y-chi-tu-do-tai-chinh-nbi',\n",
              "  2),\n",
              " ('https://spiderum.com/bai-dang/Giac-mo-My-dang-giet-chet-nguoi-My-nhu-the-nao-6gx',\n",
              "  2),\n",
              " ('https://spiderum.com/bai-dang/Vingroup-va-Su-Troi-Day-Day-Nghi-Van-Cua-Mot-De-Che-Kinh-Te-hfg',\n",
              "  2),\n",
              " ('https://spiderum.com/bai-dang/NEN-BIET-CAI-GI-KHI-LAM-NGHE-SAN-PHAM-PRODUCT-CAC-THE-LOAI-gm2',\n",
              "  2),\n",
              " ('https://spiderum.com/bai-dang/Ve-tu-trao-va-tu-ai-ve-tu-duy-tu-do-va-tu-duy-no-le-mxm',\n",
              "  2),\n",
              " ('https://spiderum.com/bai-dang/Mong-muon-cua-toi-la-bo-va-me-hay-li-hon-di-a-11b6',\n",
              "  2),\n",
              " ('https://spiderum.com/bai-dang/Phai-chang-su-ton-tai-cua-em-la-sai-lam-Toi-ghet-bo-cua-minh-10rw',\n",
              "  2),\n",
              " ('https://spiderum.com/bai-dang/SU-BAT-LUC-TU-LUYEN-VA-MOT-LY-THUYET-VE-TRAM-CAM-xjs',\n",
              "  2),\n",
              " ('https://spiderum.com/bai-dang/Den-Spiderum-de-nghe-su-bat-dong-6km', 2),\n",
              " ('https://spiderum.com/bai-dang/Thoi-dai-hoc-mong-lung-va-cach-toi-uu-hoa-tu-mot-sinh-vien-tien-bo-qhq',\n",
              "  2),\n",
              " ('https://spiderum.com/bai-dang/Cau-chuyen-dot-sach-trong-451-do-F-va-bai-hoc-cay-dang-ve-truyen-thong-hien-dai-7jd',\n",
              "  2),\n",
              " ('https://spiderum.com/bai-dang/AN-MY-GOI-NOI-CHUYEN-CHINH-TRI-arb', 2),\n",
              " ('https://spiderum.com/bai-dang/Phu-nu-so-co-don-dan-ong-so-mat-the-dien-bzw',\n",
              "  2),\n",
              " ('https://spiderum.com/bai-dang/Avicii-va-cuoc-doi-cua-toi-e3x', 2),\n",
              " ('https://spiderum.com/bai-dang/Dam-cuoi-hay-la-tro-lo-atr', 2),\n",
              " ('https://spiderum.com/bai-dang/Giai-quyet-7-mau-thuan-noi-tai-khong-mot-ai-giai-thich-duoc-cua-Tu-Vi-kot',\n",
              "  2),\n",
              " ('https://spiderum.com/bai-dang/Mui-con-gai-80a', 1),\n",
              " ('https://spiderum.com/bai-dang/Vai-suy-nghi-vun-vat-5-Ve-drama-hom-nay-cua-Hex-11dz',\n",
              "  1),\n",
              " ('https://spiderum.com/bai-dang/Chenh-venh-tuoi-20-Toi-da-song-nhu-the-nao-ro9',\n",
              "  1),\n",
              " ('https://spiderum.com/bai-dang/Suc-manh-cua-su-co-doc-khi-doc-hanh-la-su-lua-chon-rnz',\n",
              "  1),\n",
              " ('https://spiderum.com/bai-dang/Internship-series-Cau-chuyen-san-noi-thuc-tap-o-Chau-Au-wbq',\n",
              "  1),\n",
              " ('https://spiderum.com/bai-dang/Trai-nghiem-Lucid-Dream-lan-1-lan-2-va-lan-n-ae5',\n",
              "  1),\n",
              " ('https://spiderum.com/bai-dang/25-CAU-NOI-THUC-TINH-SU-MU-QUANG-TRONG-BAN-e5w',\n",
              "  1),\n",
              " ('https://spiderum.com/bai-dang/Sapiosexual-hen-ho-cung-phai-hop-thoi-bu8',\n",
              "  1),\n",
              " ('https://spiderum.com/bai-dang/Ngay-ma-toi-nhan-ra-bo-khong-phai-luc-nao-cung-dung-gwz',\n",
              "  1),\n",
              " ('https://spiderum.com/bai-dang/Toi-la-mot-co-gai-xau-xi-qxr', 1),\n",
              " ('https://spiderum.com/bai-dang/Review-sinh-vien-dai-hoc-cho-tan-sinh-vien-quz',\n",
              "  1),\n",
              " ('https://spiderum.com/bai-dang/ban-be-than-se-nhu-khong-khi-l68', 1),\n",
              " ('https://spiderum.com/bai-dang/Chi-la-mot-cau-tra-loi-tren-Reddit-ghr', 1),\n",
              " ('https://spiderum.com/bai-dang/Toi-se-tat-vo-mat-ban-va-het-len-rang-Marxism-VO-TOI-o8l',\n",
              "  1),\n",
              " ('https://spiderum.com/bai-dang/Cai-nhin-ve-Giac-Ngo-bvi', 1),\n",
              " ('https://spiderum.com/bai-dang/Self-help-Doc-sao-cho-khoi-ngo-doc-9bu', 1),\n",
              " ('https://spiderum.com/bai-dang/Nhu-la-hanh-phuc-roi-moi-yeu-qfm', 1),\n",
              " ('https://spiderum.com/bai-dang/SONG-VOI-UOC-MO-CUA-NGUOI-KHAC-z4u', 1),\n",
              " ('https://spiderum.com/bai-dang/Shark-Linh-neu-thich-xin-tu-di-ma-lam-bmt',\n",
              "  1),\n",
              " ('https://spiderum.com/bai-dang/Gia-khau-trang-vs-Dao-duc-l3x', 1),\n",
              " ('https://spiderum.com/bai-dang/1-cai-ten-2-quan-diem-Its-time-for-some-Spi-do-ramaaa-dix',\n",
              "  1),\n",
              " ('https://spiderum.com/bai-dang/Trang-Ti-cac-Gollum-Ke-muu-meo-va-Duc-Vua-tro-lai-xgw',\n",
              "  1),\n",
              " ('https://spiderum.com/bai-dang/Du-moi-the-loai-phim-danh-cho-cac-mot-trong-ngay-he-abg',\n",
              "  1),\n",
              " ('https://spiderum.com/bai-dang/Ra-Truong-Voi-Muc-Luong-Khoi-Diem-8-TrieuThang-Ban-Co-The-Lam-Gi-De-Dat-Duoc-Tu-Do-Tai-Chinh-odv',\n",
              "  1),\n",
              " ('https://spiderum.com/bai-dang/THU-100-TRIEU-VAO-CHUNG-KHOAN-VA-KET-QUA-LA-o97',\n",
              "  1),\n",
              " ('https://spiderum.com/bai-dang/CON-TRAI-HO-CUNG-YEU-DUOI-MA-6or', 1),\n",
              " ('https://spiderum.com/bai-dang/One-Punch-Man-Khi-suc-manh-va-the-gioi-anh-hung-hoan-toan-tro-nen-vo-viBinh-thuong-va-mot-chut-tam-thuong-exu',\n",
              "  1),\n",
              " ('https://spiderum.com/bai-dang/18-ORAL-SEX-LIKE-A-BOSS-P1-Dam-ba-cai-hieu-biet-ve-Pussy-d12',\n",
              "  1),\n",
              " ('https://spiderum.com/bai-dang/Ra-Truong-Di-Lam-Minh-Thay-Gi-10ne', 1),\n",
              " ('https://spiderum.com/bai-dang/Di-Kem-Sieu-Tri-Tue-La-Sieu-San-Si-jn6', 1),\n",
              " ('https://spiderum.com/bai-dang/Mat-trai-cua-Tu-duy-tich-cuc-heu', 1),\n",
              " ('https://spiderum.com/bai-dang/Chon-vo-mpv', 1),\n",
              " ('https://spiderum.com/bai-dang/Quan-ly-nang-luong-toi-uu-hieu-qua-cong-viec-xqp',\n",
              "  1),\n",
              " ('https://spiderum.com/bai-dang/Chuyen-ve-vuong-quoc-Champa-da8', 1),\n",
              " ('https://spiderum.com/bai-dang/18-FwB-va-ONS-Cuoc-choi-danh-cho-cac-dan-to-P1-d5p',\n",
              "  1),\n",
              " ('https://spiderum.com/bai-dang/Yeu-xa-Bai-viet-danh-cho-nguoi-yeu-xa-va-nguoi-khong-yeu-xa-b74',\n",
              "  1),\n",
              " ('https://spiderum.com/bai-dang/Hen-ho-o-bar-sao-cho-chuan-phan-biet-giua-barpubclublounge-z12',\n",
              "  1),\n",
              " ('https://spiderum.com/bai-dang/5200dollar-thang-Hanh-trinh-can-moc-thu-nhap-uoc-mo-sau-2-nam-nuu',\n",
              "  1),\n",
              " ('https://spiderum.com/bai-dang/Tong-hop-truyen-Witcher-The-Last-Wish-Part-1-8vl',\n",
              "  1),\n",
              " ('https://spiderum.com/bai-dang/Ve-An-ninh-mang-exv', 1),\n",
              " ('https://spiderum.com/bai-dang/TOAN-TAP-VE-SHIT-TEST-gub', 1),\n",
              " ('https://spiderum.com/bai-dang/May-Phat-Dia-CD-and-Nghich-Ly-Cua-Su-Lua-Chon-mk4',\n",
              "  1),\n",
              " ('https://spiderum.com/bai-dang/Muon-hoc-lap-trinh-thi-nen-bat-dau-tu-dau-dec',\n",
              "  1),\n",
              " ('https://spiderum.com/bai-dang/O-that-ra-Suy-Nghi-Tieu-Cuc-cung-co-cai-tot-cua-no-day-chu-h2f',\n",
              "  1),\n",
              " ('https://spiderum.com/bai-dang/Giai-tri-den-chet-Truyen-thong-tha-hoa-keo-theo-mot-the-he-cho-canh-js8',\n",
              "  1),\n",
              " ('https://spiderum.com/bai-dang/Chia-se-Chuyen-tam-bang-x25', 1),\n",
              " ('https://spiderum.com/bai-dang/Chuyen-nam-moi-hay-ban-than-muon-gi-Tam-su-cua-thang-nhoc-kfk',\n",
              "  1),\n",
              " ('https://spiderum.com/bai-dang/Tram-cai-li-khong-bang-ti-cai-tinh-Manh-loi-cua-Trang-Ti-tu-truyen-cho-den-doi-xdx',\n",
              "  1),\n",
              " ('https://spiderum.com/bai-dang/Cai-cach-tieng-Viet-Dung-lay-suy-nghi-nguoi-lon-de-ap-dat-cho-tre-em-bww',\n",
              "  1),\n",
              " ('https://spiderum.com/bai-dang/TRAI-TOT-VE-BET-bdl', 1),\n",
              " ('https://spiderum.com/bai-dang/Toi-thich-o-mot-minh-vi-toi-yeu-quy-loai-nguoi-O-that-day-b22',\n",
              "  1),\n",
              " ('https://spiderum.com/bai-dang/Bluezone-vo-toi-10du', 1),\n",
              " ('https://spiderum.com/bai-dang/Heroes-of-Might-and-Magic-III-In-the-Wake-of-Gods-Chapter-5-Necropolis-gt9',\n",
              "  1),\n",
              " ('https://spiderum.com/bai-dang/Dung-chi-hoc-tieng-Anh-de-thi-tho-gig', 1),\n",
              " ('https://spiderum.com/bai-dang/Suy-nghi-don-gian-khong-giup-cuoc-song-cua-ban-don-gian-8w0',\n",
              "  1),\n",
              " ('https://spiderum.com/bai-dang/TU-HAO-DAN-TOC-HAY-VAN-HOA-BAY-DAN-10ir', 1),\n",
              " ('https://spiderum.com/bai-dang/Hoc-ngu-ma-kiem-nhieu-tien-con-hon-hoc-gioi-ma-khong-kiem-duoc-tien-nc1',\n",
              "  1),\n",
              " ('https://spiderum.com/bai-dang/DEN-VAU-tu-goc-nhin-cua-MOT-DUA-CON-GAI-NGHE-RAP-qc6',\n",
              "  1),\n",
              " ('https://spiderum.com/bai-dang/Nofap-Vi-sao-ngung-quay-tay-se-giup-cac-zai-bot-nhat-d1o',\n",
              "  1),\n",
              " ('https://spiderum.com/bai-dang/Em-a-tham-thoi-dung-tham-qua-nnc', 1),\n",
              " ('https://spiderum.com/bai-dang/Lam-viec-hieu-qua-voi-am-thanh-6me', 1),\n",
              " ('https://spiderum.com/bai-dang/Trump-nhung-nha-dao-duc-hoc-chu-nghia-nu-quyen-va-nguoi-me-an-thit-d20',\n",
              "  1),\n",
              " ('https://spiderum.com/bai-dang/The-gioi-sau-khi-toi-tu-sat-w22', 1)]"
            ]
          },
          "metadata": {},
          "execution_count": 20
        }
      ]
    },
    {
      "cell_type": "code",
      "metadata": {
        "id": "KIDPKy81fs6j"
      },
      "source": [
        "# Tổng số bài được recommend\n",
        "# Số lần được recommend\n",
        "# Phương sai của số lần được recommend của mỗi bài"
      ],
      "execution_count": null,
      "outputs": []
    }
  ]
}