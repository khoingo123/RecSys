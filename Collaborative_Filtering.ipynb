{
  "nbformat": 4,
  "nbformat_minor": 0,
  "metadata": {
    "colab": {
      "name": "Collaborative Filtering.ipynb",
      "provenance": []
    },
    "kernelspec": {
      "display_name": "Python 3",
      "name": "python3"
    },
    "language_info": {
      "name": "python"
    }
  },
  "cells": [
    {
      "cell_type": "code",
      "metadata": {
        "colab": {
          "base_uri": "https://localhost:8080/"
        },
        "id": "p25Ko413Nltt",
        "outputId": "1eea5aa2-07e1-439b-9296-f0e5423249c0"
      },
      "source": [
        "!pip install scikit-surprise"
      ],
      "execution_count": null,
      "outputs": [
        {
          "output_type": "stream",
          "text": [
            "Collecting scikit-surprise\n",
            "\u001b[?25l  Downloading https://files.pythonhosted.org/packages/97/37/5d334adaf5ddd65da99fc65f6507e0e4599d092ba048f4302fe8775619e8/scikit-surprise-1.1.1.tar.gz (11.8MB)\n",
            "\u001b[K     |████████████████████████████████| 11.8MB 14.9MB/s \n",
            "\u001b[?25hRequirement already satisfied: joblib>=0.11 in /usr/local/lib/python3.7/dist-packages (from scikit-surprise) (1.0.1)\n",
            "Requirement already satisfied: numpy>=1.11.2 in /usr/local/lib/python3.7/dist-packages (from scikit-surprise) (1.19.5)\n",
            "Requirement already satisfied: scipy>=1.0.0 in /usr/local/lib/python3.7/dist-packages (from scikit-surprise) (1.4.1)\n",
            "Requirement already satisfied: six>=1.10.0 in /usr/local/lib/python3.7/dist-packages (from scikit-surprise) (1.15.0)\n",
            "Building wheels for collected packages: scikit-surprise\n",
            "  Building wheel for scikit-surprise (setup.py) ... \u001b[?25l\u001b[?25hdone\n",
            "  Created wheel for scikit-surprise: filename=scikit_surprise-1.1.1-cp37-cp37m-linux_x86_64.whl size=1617634 sha256=7c5996a4c153f31e10cd29b28db050fe77c1bce5668a0f95d7c22ebcbad9d0e9\n",
            "  Stored in directory: /root/.cache/pip/wheels/78/9c/3d/41b419c9d2aff5b6e2b4c0fc8d25c538202834058f9ed110d0\n",
            "Successfully built scikit-surprise\n",
            "Installing collected packages: scikit-surprise\n",
            "Successfully installed scikit-surprise-1.1.1\n"
          ],
          "name": "stdout"
        }
      ]
    },
    {
      "cell_type": "code",
      "metadata": {
        "id": "xl6UfTsH8dnb"
      },
      "source": [
        "# surprise library\n",
        "from surprise import Dataset, Reader\n",
        "\n",
        "from surprise import SVD, SVDpp\n",
        "from surprise.model_selection import \\\n",
        "    train_test_split, GridSearchCV, cross_validate, PredefinedKFold\n",
        "\n",
        "from surprise import accuracy\n",
        "from surprise.model_selection import KFold\n",
        "\n",
        "from surprise import SlopeOne, CoClustering\n",
        "\n",
        "from surprise import dump\n",
        "\n",
        "import pandas as pd\n",
        "import numpy as np\n",
        "import random"
      ],
      "execution_count": null,
      "outputs": []
    },
    {
      "cell_type": "code",
      "metadata": {
        "colab": {
          "base_uri": "https://localhost:8080/"
        },
        "id": "OGVOaaFX8mIB",
        "outputId": "796db64b-92c7-479c-f4bc-d1d0c3746c54"
      },
      "source": [
        "from google.colab import drive\n",
        "drive.mount('/content/drive')"
      ],
      "execution_count": null,
      "outputs": [
        {
          "output_type": "stream",
          "text": [
            "Mounted at /content/drive\n"
          ],
          "name": "stdout"
        }
      ]
    },
    {
      "cell_type": "code",
      "metadata": {
        "colab": {
          "base_uri": "https://localhost:8080/"
        },
        "id": "8oUzEC_k8oLX",
        "outputId": "d95978db-58c8-4b88-8fa1-5f34b4748f3e"
      },
      "source": [
        "cd /content/drive/MyDrive/Spiderum/Data"
      ],
      "execution_count": null,
      "outputs": [
        {
          "output_type": "stream",
          "text": [
            "/content/drive/MyDrive/Spiderum/Data\n"
          ],
          "name": "stdout"
        }
      ]
    },
    {
      "cell_type": "code",
      "metadata": {
        "colab": {
          "base_uri": "https://localhost:8080/",
          "height": 204
        },
        "id": "JDTTOK7s8u_e",
        "outputId": "cbdae8fb-3b52-41e0-d00d-7fcbe1f91c36"
      },
      "source": [
        "data = pd.read_csv('./Data for CF/cleaned_data.csv')\n",
        "data.head()"
      ],
      "execution_count": null,
      "outputs": [
        {
          "output_type": "execute_result",
          "data": {
            "text/html": [
              "<div>\n",
              "<style scoped>\n",
              "    .dataframe tbody tr th:only-of-type {\n",
              "        vertical-align: middle;\n",
              "    }\n",
              "\n",
              "    .dataframe tbody tr th {\n",
              "        vertical-align: top;\n",
              "    }\n",
              "\n",
              "    .dataframe thead th {\n",
              "        text-align: right;\n",
              "    }\n",
              "</style>\n",
              "<table border=\"1\" class=\"dataframe\">\n",
              "  <thead>\n",
              "    <tr style=\"text-align: right;\">\n",
              "      <th></th>\n",
              "      <th>user_id</th>\n",
              "      <th>redirect_url</th>\n",
              "      <th>vote_point</th>\n",
              "    </tr>\n",
              "  </thead>\n",
              "  <tbody>\n",
              "    <tr>\n",
              "      <th>0</th>\n",
              "      <td>5</td>\n",
              "      <td>https://spiderum.com/bai-dang/Dau-tu-vao-nhan-...</td>\n",
              "      <td>1</td>\n",
              "    </tr>\n",
              "    <tr>\n",
              "      <th>1</th>\n",
              "      <td>5</td>\n",
              "      <td>https://spiderum.com/bai-dang/Toi-chi-muon-con...</td>\n",
              "      <td>1</td>\n",
              "    </tr>\n",
              "    <tr>\n",
              "      <th>2</th>\n",
              "      <td>8</td>\n",
              "      <td>http://spiderum.com/bai-dang/La-mot-du-hoc-sin...</td>\n",
              "      <td>1</td>\n",
              "    </tr>\n",
              "    <tr>\n",
              "      <th>3</th>\n",
              "      <td>8</td>\n",
              "      <td>http://spiderum.com/bai-dang/Sang-tao-va-pha-c...</td>\n",
              "      <td>1</td>\n",
              "    </tr>\n",
              "    <tr>\n",
              "      <th>4</th>\n",
              "      <td>8</td>\n",
              "      <td>https://spiderum.com/bai-dang/-c1l</td>\n",
              "      <td>1</td>\n",
              "    </tr>\n",
              "  </tbody>\n",
              "</table>\n",
              "</div>"
            ],
            "text/plain": [
              "   user_id                                       redirect_url  vote_point\n",
              "0        5  https://spiderum.com/bai-dang/Dau-tu-vao-nhan-...           1\n",
              "1        5  https://spiderum.com/bai-dang/Toi-chi-muon-con...           1\n",
              "2        8  http://spiderum.com/bai-dang/La-mot-du-hoc-sin...           1\n",
              "3        8  http://spiderum.com/bai-dang/Sang-tao-va-pha-c...           1\n",
              "4        8                 https://spiderum.com/bai-dang/-c1l           1"
            ]
          },
          "metadata": {
            "tags": []
          },
          "execution_count": 58
        }
      ]
    },
    {
      "cell_type": "markdown",
      "metadata": {
        "id": "dkqFxTe3NT61"
      },
      "source": [
        "# Build model SVD (Matrix Factorization)"
      ]
    },
    {
      "cell_type": "code",
      "metadata": {
        "id": "nMsmRqd-E4aI"
      },
      "source": [
        "reader = Reader()\n",
        "data_prepared = Dataset.load_from_df(data, reader)"
      ],
      "execution_count": null,
      "outputs": []
    },
    {
      "cell_type": "code",
      "metadata": {
        "id": "QZTp2qqhU10a"
      },
      "source": [
        "param_grid1 = {'n_factors':[3, 5],'n_epochs': [10, 20], 'lr_all': [0.0025, 0.005],\n",
        "              'reg_all': [0.2, 0.4]}\n",
        "\n",
        "gs_model1 = GridSearchCV(SVD, param_grid=param_grid1, return_train_measures=True)\n",
        "gs_model1.fit(data_prepared)"
      ],
      "execution_count": null,
      "outputs": []
    },
    {
      "cell_type": "code",
      "metadata": {
        "colab": {
          "base_uri": "https://localhost:8080/"
        },
        "id": "m8Z86kB2Vcvd",
        "outputId": "16c58348-60dc-48d7-e94d-b4e44ccee468"
      },
      "source": [
        "gs_model1.best_params"
      ],
      "execution_count": null,
      "outputs": [
        {
          "output_type": "execute_result",
          "data": {
            "text/plain": [
              "{'mae': {'lr_all': 0.0025, 'n_epochs': 10, 'n_factors': 3, 'reg_all': 0.4},\n",
              " 'rmse': {'lr_all': 0.0025, 'n_epochs': 20, 'n_factors': 3, 'reg_all': 0.2}}"
            ]
          },
          "metadata": {
            "tags": []
          },
          "execution_count": 10
        }
      ]
    },
    {
      "cell_type": "code",
      "metadata": {
        "id": "lUB1YyS9lyz3"
      },
      "source": [
        "param_grid2 = {'n_factors':[3, 4],'n_epochs': [15, 20], 'lr_all': [0.0025, 0.00375],\n",
        "              'reg_all': [0.2, 0.3]}\n",
        "\n",
        "gs_model2 = GridSearchCV(SVD, param_grid=param_grid2, return_train_measures=True)\n",
        "gs_model2.fit(data_prepared)"
      ],
      "execution_count": null,
      "outputs": []
    },
    {
      "cell_type": "code",
      "metadata": {
        "id": "tKZuKkoTZKNB",
        "colab": {
          "base_uri": "https://localhost:8080/"
        },
        "outputId": "7cdd9b80-0883-44b6-8b75-ecbe051a3689"
      },
      "source": [
        "gs_model2.best_params"
      ],
      "execution_count": null,
      "outputs": [
        {
          "output_type": "execute_result",
          "data": {
            "text/plain": [
              "{'mae': {'lr_all': 0.0025, 'n_epochs': 15, 'n_factors': 3, 'reg_all': 0.3},\n",
              " 'rmse': {'lr_all': 0.0025, 'n_epochs': 15, 'n_factors': 3, 'reg_all': 0.2}}"
            ]
          },
          "metadata": {
            "tags": []
          },
          "execution_count": 12
        }
      ]
    },
    {
      "cell_type": "code",
      "metadata": {
        "id": "fxXqq0GooMPa"
      },
      "source": [
        "param_grid3 = {'n_factors':[2, 3],'n_epochs': [15], 'lr_all': [0.0025, 0.001],\n",
        "              'reg_all': [0.2, 0.25]}\n",
        "\n",
        "gs_model3 = GridSearchCV(SVD, param_grid=param_grid3, return_train_measures=True)\n",
        "gs_model3.fit(data_prepared)"
      ],
      "execution_count": null,
      "outputs": []
    },
    {
      "cell_type": "code",
      "metadata": {
        "colab": {
          "base_uri": "https://localhost:8080/"
        },
        "id": "GaB4zv2wobEG",
        "outputId": "aeb3243e-c1fd-4377-ef48-e2abff5e0145"
      },
      "source": [
        "gs_model3.best_params"
      ],
      "execution_count": null,
      "outputs": [
        {
          "output_type": "execute_result",
          "data": {
            "text/plain": [
              "{'mae': {'lr_all': 0.001, 'n_epochs': 15, 'n_factors': 2, 'reg_all': 0.25},\n",
              " 'rmse': {'lr_all': 0.0025, 'n_epochs': 15, 'n_factors': 2, 'reg_all': 0.2}}"
            ]
          },
          "metadata": {
            "tags": []
          },
          "execution_count": 15
        }
      ]
    },
    {
      "cell_type": "code",
      "metadata": {
        "id": "Lk8kLw-8x8VG"
      },
      "source": [
        "param_grid4 = {'n_factors':[1, 2],'n_epochs': [15], 'lr_all': [0.0025, 0.00175],\n",
        "              'reg_all': [0.2, 0.1]}\n",
        "\n",
        "gs_model4 = GridSearchCV(SVD, param_grid=param_grid4, return_train_measures=True)\n",
        "gs_model4.fit(data_prepared)"
      ],
      "execution_count": null,
      "outputs": []
    },
    {
      "cell_type": "code",
      "metadata": {
        "colab": {
          "base_uri": "https://localhost:8080/"
        },
        "id": "I4PcKg1GyiYB",
        "outputId": "229d6307-15d0-4b15-f49d-e5468201d506"
      },
      "source": [
        "gs_model4.best_params"
      ],
      "execution_count": null,
      "outputs": [
        {
          "output_type": "execute_result",
          "data": {
            "text/plain": [
              "{'mae': {'lr_all': 0.00175, 'n_epochs': 15, 'n_factors': 1, 'reg_all': 0.2},\n",
              " 'rmse': {'lr_all': 0.00175, 'n_epochs': 15, 'n_factors': 1, 'reg_all': 0.1}}"
            ]
          },
          "metadata": {
            "tags": []
          },
          "execution_count": 20
        }
      ]
    },
    {
      "cell_type": "code",
      "metadata": {
        "id": "VescsM_v1pDo"
      },
      "source": [
        "param_grid5 = {'n_factors':[1, 10, 30, 50, 100],'n_epochs': [15], 'lr_all': [0.0025],\n",
        "              'reg_all': [0.2]}\n",
        "\n",
        "gs_model5 = GridSearchCV(SVD, param_grid=param_grid5, return_train_measures=True, cv=5)\n",
        "gs_model5.fit(data_prepared)"
      ],
      "execution_count": null,
      "outputs": []
    },
    {
      "cell_type": "code",
      "metadata": {
        "colab": {
          "base_uri": "https://localhost:8080/"
        },
        "id": "gXYPCrGrFM_c",
        "outputId": "cddc5dd9-d35f-4946-b62a-8d14cd1c9864"
      },
      "source": [
        "gs_model5.best_params"
      ],
      "execution_count": null,
      "outputs": [
        {
          "output_type": "execute_result",
          "data": {
            "text/plain": [
              "{'mae': {'lr_all': 0.0025, 'n_epochs': 15, 'n_factors': 1, 'reg_all': 0.2},\n",
              " 'rmse': {'lr_all': 0.0025, 'n_epochs': 15, 'n_factors': 1, 'reg_all': 0.2}}"
            ]
          },
          "metadata": {
            "tags": []
          },
          "execution_count": 8
        }
      ]
    },
    {
      "cell_type": "code",
      "metadata": {
        "id": "5Mme29UHIY6w"
      },
      "source": [
        "gs_model5.cv_results"
      ],
      "execution_count": null,
      "outputs": []
    },
    {
      "cell_type": "code",
      "metadata": {
        "id": "8fUJFxM1u2Uy"
      },
      "source": [
        "import collections\n",
        "\n",
        "class CF(object):\n",
        "    def __init__(self, data):\n",
        "        self.data = data\n",
        "        self.trainset = Dataset.load_from_df(self.data, Reader()).build_full_trainset()\n",
        "        self.model = None\n",
        "        self.predictions = None\n",
        "\n",
        "    def train_model(self, lr_all, n_epochs, n_factors, reg_all, biased):\n",
        "        self.model = SVD(lr_all=lr_all, n_epochs=n_epochs, n_factors=n_factors, reg_all=reg_all, biased=biased)\n",
        "        self.model.fit(self.trainset)\n",
        "    \n",
        "    def save_model(self, path):\n",
        "        dump.dump('./Data for CF/svd_model',algo=self.model)\n",
        "    \n",
        "    def load_model(self, path):\n",
        "        self.model = dump.load('./Data for CF/svd_model')[1]\n",
        "    \n",
        "    def create_predictions(self):\n",
        "        testset = trainset.build_anti_testset()\n",
        "        self.predictions = self.model.test(testset)\n",
        "\n",
        "    def recommend_for_users(self, inner_uid_start, inner_uid_end, top_n_items):\n",
        "        list_users = []\n",
        "        list_items = []\n",
        "        list_ratings = []\n",
        "        for inner_uid in range(inner_uid_start, inner_uid_end + 1):\n",
        "            inner_iid_rated_list = [inner_iid for inner_iid, rating in self.trainset.ur[inner_uid]]\n",
        "            inner_iid_predict_list = list(set(self.trainset.all_items()) - set(inner_iid_rated_list))\n",
        "            raw_iid_predict_list = [self.trainset.to_raw_iid(inner_iid) for inner_iid in inner_iid_predict_list]\n",
        "            n = len(raw_iid_predict_list)\n",
        "\n",
        "            list_users.extend([self.trainset.to_raw_uid(inner_uid) for _ in range(n)])\n",
        "            list_items.extend(raw_iid_predict_list)\n",
        "            list_ratings.extend([0 for _ in range(n)])\n",
        "\n",
        "        df = pd.DataFrame({'users': list_users, 'items': list_items, 'ratings': list_ratings})\n",
        "        predictions_set = Dataset.load_from_df(df, Reader()).build_full_trainset().build_testset()\n",
        "        predictions = self.model.test(predictions_set)\n",
        "\n",
        "        top_n = collections.defaultdict(list)\n",
        "        for uid, iid, true_r, est, _ in predictions:\n",
        "            top_n[uid].append((iid, est))\n",
        "\n",
        "        # Then sort the predictions for each user and retrieve the k highest ones.\n",
        "        for uid, ratings in top_n.items():\n",
        "            ratings.sort(key=lambda x: x[1], reverse=True)\n",
        "            top_n[uid] = ratings[:top_n_items]\n",
        "\n",
        "        return top_n\n",
        "\n"
      ],
      "execution_count": null,
      "outputs": []
    },
    {
      "cell_type": "code",
      "metadata": {
        "id": "5uoPw7OznCHK"
      },
      "source": [
        "a.recommend_for_users(1, 10, 10)"
      ],
      "execution_count": null,
      "outputs": []
    },
    {
      "cell_type": "code",
      "metadata": {
        "id": "ljLj5RSZI70v"
      },
      "source": [
        "a = CF(data=data)"
      ],
      "execution_count": null,
      "outputs": []
    },
    {
      "cell_type": "code",
      "metadata": {
        "id": "luMAHYNGnV4W"
      },
      "source": [
        "a.train_model(lr_all=0.0025, n_epochs=15, n_factors=1, reg_all=0.2, biased=None)"
      ],
      "execution_count": null,
      "outputs": []
    },
    {
      "cell_type": "code",
      "metadata": {
        "id": "kWIlnuAYnr-4"
      },
      "source": [
        "reader = Reader()\n",
        "data_prepared = Dataset.load_from_df(data, reader)"
      ],
      "execution_count": null,
      "outputs": []
    },
    {
      "cell_type": "code",
      "metadata": {
        "id": "fpDqZzJwjhm0"
      },
      "source": [
        "data_prepared = data_prepared.build_full_trainset()"
      ],
      "execution_count": null,
      "outputs": []
    },
    {
      "cell_type": "code",
      "metadata": {
        "id": "IeZfyZj_8yRF"
      },
      "source": [
        ""
      ],
      "execution_count": null,
      "outputs": []
    }
  ]
}